{
 "cells": [
  {
   "cell_type": "markdown",
   "metadata": {},
   "source": [
    "# Change overlap value"
   ]
  },
  {
   "cell_type": "markdown",
   "metadata": {},
   "source": [
    "Now, it is possible change the samples overlap for model input. Overlap is the number of sequential samples shared between the inputs. As example:\n",
    "\n",
    "```python\n",
    "input_0 = [0, 1, 2, 3, 4]\n",
    "input_1 = [1, 2, 3, 4, 5]\n",
    "input_2 = [4, 5, 6, 7, 8]\n",
    "```\n",
    "There is 4 samples overlaped between ```input_0``` and ```input_1```. 1, 2, 3, and 4 are these values samples.\n",
    "There is 2 samples overlaped between ```input_1``` and ```input_2```. 4, and 5 are these values samples.\n",
    "And there is 1 sample overlaped between ```input_0``` and ```input_2```. The 4 are this value sample.\n",
    "\n",
    "As model input:"
   ]
  },
  {
   "cell_type": "code",
   "execution_count": 1,
   "metadata": {},
   "outputs": [
    {
     "name": "stdout",
     "output_type": "stream",
     "text": [
      "[[ 0.42857143 12.85714286]\n",
      " [ 0.42857143 12.85714286]\n",
      " [ 0.42857143 12.85714286]\n",
      " [ 0.42857143 12.85714286]\n",
      " [ 0.42857143 12.85714286]\n",
      " [ 0.42857143 12.85714286]\n",
      " [ 0.42857143 12.85714286]]\n",
      "\n",
      "\n",
      "[[ 0.42857143 12.85714286]\n",
      " [ 0.42857143 12.85714286]\n",
      " [ 0.42857143 12.85714286]\n",
      " [ 0.42857143 12.85714286]\n",
      " [ 0.42857143 12.85714286]\n",
      " [ 0.42857143 12.85714286]\n",
      " [ 0.42857143  1.71428571]]\n"
     ]
    }
   ],
   "source": [
    "import sys\n",
    "\n",
    "sys.path.append(\"../src\")\n",
    "\n",
    "import data_manner\n",
    "import configs_manner\n",
    "import numpy as np\n",
    "\n",
    "repo = \"p971074907\"\n",
    "path = \"brl:rn\"\n",
    "feature = \"date:newDeaths:newCases:\"\n",
    "begin = \"2020-05-01\"\n",
    "end = \"2022-07-01\"\n",
    "\n",
    "# creating a data constructor object\n",
    "data_constructor = data_manner.DataConstructor()\n",
    "collected_data = data_constructor.collect_dataframe(path, repo, feature, begin, end)\n",
    "# window size = 7\n",
    "data_train = data_constructor.build_train(collected_data)\n",
    "print(data_train.x[0])\n",
    "print(\"\\n\")\n",
    "print(data_train.x[1])"
   ]
  },
  {
   "cell_type": "markdown",
   "metadata": {},
   "source": [
    "The default overlap value is the window input size -1. You can set this value in the ```configure.json``` file. The value is restrict by maximum from ```input_windows_size - 1``` to the minimum 1 (or ```(input_windows_size - 1)  >= 1 ```). \n",
    "\n",
    "As said, you can set up this value directly in the ```configure.json``` file or you can change this value using the ```configs_manner``` module function ```add_variable_to_globals()```."
   ]
  },
  {
   "cell_type": "code",
   "execution_count": 2,
   "metadata": {},
   "outputs": [
    {
     "name": "stdout",
     "output_type": "stream",
     "text": [
      "[[ 0.42857143 12.85714286]\n",
      " [ 0.42857143 12.85714286]\n",
      " [ 0.42857143 12.85714286]\n",
      " [ 0.42857143 12.85714286]\n",
      " [ 0.42857143 12.85714286]\n",
      " [ 0.42857143 12.85714286]\n",
      " [ 0.42857143 12.85714286]]\n",
      "\n",
      "\n",
      "[[ 0.42857143 12.85714286]\n",
      " [ 0.42857143 12.85714286]\n",
      " [ 0.42857143 12.85714286]\n",
      " [ 0.42857143 12.85714286]\n",
      " [ 0.42857143  1.71428571]\n",
      " [ 0.71428571 -1.14285714]\n",
      " [ 1.14285714 -2.71428571]]\n"
     ]
    }
   ],
   "source": [
    "# change overlap to 4 samples\n",
    "configs_manner.add_variable_to_globals('overlap_in_samples', 4)\n",
    "\n",
    "data_train = data_constructor.build_train(collected_data)\n",
    "print(data_train.x[0])\n",
    "print(\"\\n\")\n",
    "print(data_train.x[1])"
   ]
  },
  {
   "cell_type": "markdown",
   "metadata": {},
   "source": [
    "As showed, the number of sequential shared samples as the first 4 values. If you try to change the value to a ivalid value, a error message was trigged."
   ]
  },
  {
   "cell_type": "code",
   "execution_count": 3,
   "metadata": {},
   "outputs": [
    {
     "ename": "AssertionError",
     "evalue": "invalid overlap value",
     "output_type": "error",
     "traceback": [
      "\u001b[0;31m---------------------------------------------------------------------------\u001b[0m",
      "\u001b[0;31mAssertionError\u001b[0m                            Traceback (most recent call last)",
      "\u001b[1;32m/home/emerson/Documents/Doutorado/Semestre 4/N-Covid Beckend/ncovid-ml-modules/jupyter-notebook/change_overlap_value.ipynb Cell 7'\u001b[0m in \u001b[0;36m<module>\u001b[0;34m\u001b[0m\n\u001b[1;32m      <a href='vscode-notebook-cell:/home/emerson/Documents/Doutorado/Semestre%204/N-Covid%20Beckend/ncovid-ml-modules/jupyter-notebook/change_overlap_value.ipynb#ch0000005?line=0'>1</a>\u001b[0m \u001b[39m# change overlap to an invalid value 10 samples (that is bigger than the window size 7)\u001b[39;00m\n\u001b[1;32m      <a href='vscode-notebook-cell:/home/emerson/Documents/Doutorado/Semestre%204/N-Covid%20Beckend/ncovid-ml-modules/jupyter-notebook/change_overlap_value.ipynb#ch0000005?line=1'>2</a>\u001b[0m configs_manner\u001b[39m.\u001b[39madd_variable_to_globals(\u001b[39m'\u001b[39m\u001b[39moverlap_in_samples\u001b[39m\u001b[39m'\u001b[39m, \u001b[39m10\u001b[39m)\n\u001b[0;32m----> <a href='vscode-notebook-cell:/home/emerson/Documents/Doutorado/Semestre%204/N-Covid%20Beckend/ncovid-ml-modules/jupyter-notebook/change_overlap_value.ipynb#ch0000005?line=3'>4</a>\u001b[0m data_train \u001b[39m=\u001b[39m data_constructor\u001b[39m.\u001b[39;49mbuild_train(collected_data)\n\u001b[1;32m      <a href='vscode-notebook-cell:/home/emerson/Documents/Doutorado/Semestre%204/N-Covid%20Beckend/ncovid-ml-modules/jupyter-notebook/change_overlap_value.ipynb#ch0000005?line=4'>5</a>\u001b[0m \u001b[39mprint\u001b[39m(data_train\u001b[39m.\u001b[39mx[\u001b[39m0\u001b[39m])\n\u001b[1;32m      <a href='vscode-notebook-cell:/home/emerson/Documents/Doutorado/Semestre%204/N-Covid%20Beckend/ncovid-ml-modules/jupyter-notebook/change_overlap_value.ipynb#ch0000005?line=5'>6</a>\u001b[0m \u001b[39mprint\u001b[39m(\u001b[39m\"\u001b[39m\u001b[39m\\n\u001b[39;00m\u001b[39m\"\u001b[39m)\n",
      "File \u001b[0;32m~/Documents/Doutorado/Semestre 4/N-Covid Beckend/ncovid-ml-modules/jupyter-notebook/../src/data_manner.py:78\u001b[0m, in \u001b[0;36mDataConstructor.build_train\u001b[0;34m(self, data)\u001b[0m\n\u001b[1;32m     <a href='file:///home/emerson/Documents/Doutorado/Semestre%204/N-Covid%20Beckend/ncovid-ml-modules/jupyter-notebook/../src/data_manner.py?line=64'>65</a>\u001b[0m \u001b[39m\"\"\"To build train data for training.\u001b[39;00m\n\u001b[1;32m     <a href='file:///home/emerson/Documents/Doutorado/Semestre%204/N-Covid%20Beckend/ncovid-ml-modules/jupyter-notebook/../src/data_manner.py?line=65'>66</a>\u001b[0m \n\u001b[1;32m     <a href='file:///home/emerson/Documents/Doutorado/Semestre%204/N-Covid%20Beckend/ncovid-ml-modules/jupyter-notebook/../src/data_manner.py?line=66'>67</a>\u001b[0m \u001b[39mArgs:\u001b[39;00m\n\u001b[0;32m   (...)\u001b[0m\n\u001b[1;32m     <a href='file:///home/emerson/Documents/Doutorado/Semestre%204/N-Covid%20Beckend/ncovid-ml-modules/jupyter-notebook/../src/data_manner.py?line=72'>73</a>\u001b[0m \u001b[39m    Train: Train data type \u001b[39;00m\n\u001b[1;32m     <a href='file:///home/emerson/Documents/Doutorado/Semestre%204/N-Covid%20Beckend/ncovid-ml-modules/jupyter-notebook/../src/data_manner.py?line=73'>74</a>\u001b[0m \u001b[39m\"\"\"\u001b[39;00m\n\u001b[1;32m     <a href='file:///home/emerson/Documents/Doutorado/Semestre%204/N-Covid%20Beckend/ncovid-ml-modules/jupyter-notebook/../src/data_manner.py?line=74'>75</a>\u001b[0m \u001b[39massert\u001b[39;00m \u001b[39mtype\u001b[39m(data) \u001b[39m==\u001b[39m np\u001b[39m.\u001b[39mndarray \u001b[39mor\u001b[39;00m \u001b[39mtype\u001b[39m(data) \u001b[39m==\u001b[39m \u001b[39mlist\u001b[39m, logger\u001b[39m.\u001b[39merror_log(\n\u001b[1;32m     <a href='file:///home/emerson/Documents/Doutorado/Semestre%204/N-Covid%20Beckend/ncovid-ml-modules/jupyter-notebook/../src/data_manner.py?line=75'>76</a>\u001b[0m     \u001b[39mself\u001b[39m\u001b[39m.\u001b[39m\u001b[39m__class__\u001b[39m\u001b[39m.\u001b[39m\u001b[39m__name__\u001b[39m, \u001b[39mself\u001b[39m\u001b[39m.\u001b[39mbuild_train\u001b[39m.\u001b[39m\u001b[39m__name__\u001b[39m, \u001b[39m\"\u001b[39m\u001b[39mFormat data\u001b[39m\u001b[39m\"\u001b[39m,\n\u001b[1;32m     <a href='file:///home/emerson/Documents/Doutorado/Semestre%204/N-Covid%20Beckend/ncovid-ml-modules/jupyter-notebook/../src/data_manner.py?line=76'>77</a>\u001b[0m )\n\u001b[0;32m---> <a href='file:///home/emerson/Documents/Doutorado/Semestre%204/N-Covid%20Beckend/ncovid-ml-modules/jupyter-notebook/../src/data_manner.py?line=77'>78</a>\u001b[0m \u001b[39massert\u001b[39;00m (configs_manner\u001b[39m.\u001b[39minput_window_size \u001b[39m-\u001b[39m configs_manner\u001b[39m.\u001b[39moverlap_in_samples) \u001b[39m>\u001b[39m\u001b[39m=\u001b[39m \u001b[39m1\u001b[39m, \u001b[39m\"\u001b[39m\u001b[39minvalid overlap value\u001b[39m\u001b[39m\"\u001b[39m\n\u001b[1;32m     <a href='file:///home/emerson/Documents/Doutorado/Semestre%204/N-Covid%20Beckend/ncovid-ml-modules/jupyter-notebook/../src/data_manner.py?line=78'>79</a>\u001b[0m \u001b[39mtry\u001b[39;00m:\n\u001b[1;32m     <a href='file:///home/emerson/Documents/Doutorado/Semestre%204/N-Covid%20Beckend/ncovid-ml-modules/jupyter-notebook/../src/data_manner.py?line=79'>80</a>\u001b[0m     \u001b[39mreturn\u001b[39;00m \u001b[39mgetattr\u001b[39m(\u001b[39mself\u001b[39m, \u001b[39mf\u001b[39m\u001b[39m\"\u001b[39m\u001b[39m_build_data_\u001b[39m\u001b[39m{\u001b[39;00mconfigs_manner\u001b[39m.\u001b[39mtype_used\u001b[39m}\u001b[39;00m\u001b[39m\"\u001b[39m)(\n\u001b[1;32m     <a href='file:///home/emerson/Documents/Doutorado/Semestre%204/N-Covid%20Beckend/ncovid-ml-modules/jupyter-notebook/../src/data_manner.py?line=80'>81</a>\u001b[0m         Train, data\n\u001b[1;32m     <a href='file:///home/emerson/Documents/Doutorado/Semestre%204/N-Covid%20Beckend/ncovid-ml-modules/jupyter-notebook/../src/data_manner.py?line=81'>82</a>\u001b[0m     )\n",
      "\u001b[0;31mAssertionError\u001b[0m: invalid overlap value"
     ]
    }
   ],
   "source": [
    "# change overlap to an invalid value 10 samples (that is bigger than the window size 7)\n",
    "configs_manner.add_variable_to_globals('overlap_in_samples', 10)\n",
    "\n",
    "data_train = data_constructor.build_train(collected_data)\n",
    "print(data_train.x[0])\n",
    "print(\"\\n\")\n",
    "print(data_train.x[1])"
   ]
  },
  {
   "cell_type": "markdown",
   "metadata": {},
   "source": [
    "Another example of a invalid number."
   ]
  },
  {
   "cell_type": "code",
   "execution_count": 4,
   "metadata": {},
   "outputs": [
    {
     "ename": "AssertionError",
     "evalue": "invalid overlap value",
     "output_type": "error",
     "traceback": [
      "\u001b[0;31m---------------------------------------------------------------------------\u001b[0m",
      "\u001b[0;31mAssertionError\u001b[0m                            Traceback (most recent call last)",
      "\u001b[1;32m/home/emerson/Documents/Doutorado/Semestre 4/N-Covid Beckend/ncovid-ml-modules/jupyter-notebook/change_overlap_value.ipynb Cell 9'\u001b[0m in \u001b[0;36m<module>\u001b[0;34m\u001b[0m\n\u001b[1;32m      <a href='vscode-notebook-cell:/home/emerson/Documents/Doutorado/Semestre%204/N-Covid%20Beckend/ncovid-ml-modules/jupyter-notebook/change_overlap_value.ipynb#ch0000009?line=0'>1</a>\u001b[0m \u001b[39m# change overlap to an invalid value 7 samples (that is equal to the window size 7)\u001b[39;00m\n\u001b[1;32m      <a href='vscode-notebook-cell:/home/emerson/Documents/Doutorado/Semestre%204/N-Covid%20Beckend/ncovid-ml-modules/jupyter-notebook/change_overlap_value.ipynb#ch0000009?line=1'>2</a>\u001b[0m configs_manner\u001b[39m.\u001b[39madd_variable_to_globals(\u001b[39m'\u001b[39m\u001b[39moverlap_in_samples\u001b[39m\u001b[39m'\u001b[39m, \u001b[39m7\u001b[39m)\n\u001b[0;32m----> <a href='vscode-notebook-cell:/home/emerson/Documents/Doutorado/Semestre%204/N-Covid%20Beckend/ncovid-ml-modules/jupyter-notebook/change_overlap_value.ipynb#ch0000009?line=3'>4</a>\u001b[0m data_train \u001b[39m=\u001b[39m data_constructor\u001b[39m.\u001b[39;49mbuild_train(collected_data)\n\u001b[1;32m      <a href='vscode-notebook-cell:/home/emerson/Documents/Doutorado/Semestre%204/N-Covid%20Beckend/ncovid-ml-modules/jupyter-notebook/change_overlap_value.ipynb#ch0000009?line=4'>5</a>\u001b[0m \u001b[39mprint\u001b[39m(data_train\u001b[39m.\u001b[39mx[\u001b[39m0\u001b[39m])\n\u001b[1;32m      <a href='vscode-notebook-cell:/home/emerson/Documents/Doutorado/Semestre%204/N-Covid%20Beckend/ncovid-ml-modules/jupyter-notebook/change_overlap_value.ipynb#ch0000009?line=5'>6</a>\u001b[0m \u001b[39mprint\u001b[39m(\u001b[39m\"\u001b[39m\u001b[39m\\n\u001b[39;00m\u001b[39m\"\u001b[39m)\n",
      "File \u001b[0;32m~/Documents/Doutorado/Semestre 4/N-Covid Beckend/ncovid-ml-modules/jupyter-notebook/../src/data_manner.py:78\u001b[0m, in \u001b[0;36mDataConstructor.build_train\u001b[0;34m(self, data)\u001b[0m\n\u001b[1;32m     <a href='file:///home/emerson/Documents/Doutorado/Semestre%204/N-Covid%20Beckend/ncovid-ml-modules/jupyter-notebook/../src/data_manner.py?line=64'>65</a>\u001b[0m \u001b[39m\"\"\"To build train data for training.\u001b[39;00m\n\u001b[1;32m     <a href='file:///home/emerson/Documents/Doutorado/Semestre%204/N-Covid%20Beckend/ncovid-ml-modules/jupyter-notebook/../src/data_manner.py?line=65'>66</a>\u001b[0m \n\u001b[1;32m     <a href='file:///home/emerson/Documents/Doutorado/Semestre%204/N-Covid%20Beckend/ncovid-ml-modules/jupyter-notebook/../src/data_manner.py?line=66'>67</a>\u001b[0m \u001b[39mArgs:\u001b[39;00m\n\u001b[0;32m   (...)\u001b[0m\n\u001b[1;32m     <a href='file:///home/emerson/Documents/Doutorado/Semestre%204/N-Covid%20Beckend/ncovid-ml-modules/jupyter-notebook/../src/data_manner.py?line=72'>73</a>\u001b[0m \u001b[39m    Train: Train data type \u001b[39;00m\n\u001b[1;32m     <a href='file:///home/emerson/Documents/Doutorado/Semestre%204/N-Covid%20Beckend/ncovid-ml-modules/jupyter-notebook/../src/data_manner.py?line=73'>74</a>\u001b[0m \u001b[39m\"\"\"\u001b[39;00m\n\u001b[1;32m     <a href='file:///home/emerson/Documents/Doutorado/Semestre%204/N-Covid%20Beckend/ncovid-ml-modules/jupyter-notebook/../src/data_manner.py?line=74'>75</a>\u001b[0m \u001b[39massert\u001b[39;00m \u001b[39mtype\u001b[39m(data) \u001b[39m==\u001b[39m np\u001b[39m.\u001b[39mndarray \u001b[39mor\u001b[39;00m \u001b[39mtype\u001b[39m(data) \u001b[39m==\u001b[39m \u001b[39mlist\u001b[39m, logger\u001b[39m.\u001b[39merror_log(\n\u001b[1;32m     <a href='file:///home/emerson/Documents/Doutorado/Semestre%204/N-Covid%20Beckend/ncovid-ml-modules/jupyter-notebook/../src/data_manner.py?line=75'>76</a>\u001b[0m     \u001b[39mself\u001b[39m\u001b[39m.\u001b[39m\u001b[39m__class__\u001b[39m\u001b[39m.\u001b[39m\u001b[39m__name__\u001b[39m, \u001b[39mself\u001b[39m\u001b[39m.\u001b[39mbuild_train\u001b[39m.\u001b[39m\u001b[39m__name__\u001b[39m, \u001b[39m\"\u001b[39m\u001b[39mFormat data\u001b[39m\u001b[39m\"\u001b[39m,\n\u001b[1;32m     <a href='file:///home/emerson/Documents/Doutorado/Semestre%204/N-Covid%20Beckend/ncovid-ml-modules/jupyter-notebook/../src/data_manner.py?line=76'>77</a>\u001b[0m )\n\u001b[0;32m---> <a href='file:///home/emerson/Documents/Doutorado/Semestre%204/N-Covid%20Beckend/ncovid-ml-modules/jupyter-notebook/../src/data_manner.py?line=77'>78</a>\u001b[0m \u001b[39massert\u001b[39;00m (configs_manner\u001b[39m.\u001b[39minput_window_size \u001b[39m-\u001b[39m configs_manner\u001b[39m.\u001b[39moverlap_in_samples) \u001b[39m>\u001b[39m\u001b[39m=\u001b[39m \u001b[39m1\u001b[39m, \u001b[39m\"\u001b[39m\u001b[39minvalid overlap value\u001b[39m\u001b[39m\"\u001b[39m\n\u001b[1;32m     <a href='file:///home/emerson/Documents/Doutorado/Semestre%204/N-Covid%20Beckend/ncovid-ml-modules/jupyter-notebook/../src/data_manner.py?line=78'>79</a>\u001b[0m \u001b[39mtry\u001b[39;00m:\n\u001b[1;32m     <a href='file:///home/emerson/Documents/Doutorado/Semestre%204/N-Covid%20Beckend/ncovid-ml-modules/jupyter-notebook/../src/data_manner.py?line=79'>80</a>\u001b[0m     \u001b[39mreturn\u001b[39;00m \u001b[39mgetattr\u001b[39m(\u001b[39mself\u001b[39m, \u001b[39mf\u001b[39m\u001b[39m\"\u001b[39m\u001b[39m_build_data_\u001b[39m\u001b[39m{\u001b[39;00mconfigs_manner\u001b[39m.\u001b[39mtype_used\u001b[39m}\u001b[39;00m\u001b[39m\"\u001b[39m)(\n\u001b[1;32m     <a href='file:///home/emerson/Documents/Doutorado/Semestre%204/N-Covid%20Beckend/ncovid-ml-modules/jupyter-notebook/../src/data_manner.py?line=80'>81</a>\u001b[0m         Train, data\n\u001b[1;32m     <a href='file:///home/emerson/Documents/Doutorado/Semestre%204/N-Covid%20Beckend/ncovid-ml-modules/jupyter-notebook/../src/data_manner.py?line=81'>82</a>\u001b[0m     )\n",
      "\u001b[0;31mAssertionError\u001b[0m: invalid overlap value"
     ]
    }
   ],
   "source": [
    "# change overlap to an invalid value 7 samples (that is equal to the window size 7)\n",
    "configs_manner.add_variable_to_globals('overlap_in_samples', 7)\n",
    "\n",
    "data_train = data_constructor.build_train(collected_data)\n",
    "print(data_train.x[0])\n",
    "print(\"\\n\")\n",
    "print(data_train.x[1])"
   ]
  }
 ],
 "metadata": {
  "interpreter": {
   "hash": "b48a8372de07dcfb7270582fe52a873b16bfa1fa9f9ee7b27a1873baaed48200"
  },
  "kernelspec": {
   "display_name": "Python 3.8.11 ('ncovid-backend')",
   "language": "python",
   "name": "python3"
  },
  "language_info": {
   "codemirror_mode": {
    "name": "ipython",
    "version": 3
   },
   "file_extension": ".py",
   "mimetype": "text/x-python",
   "name": "python",
   "nbconvert_exporter": "python",
   "pygments_lexer": "ipython3",
   "version": "3.8.11"
  },
  "orig_nbformat": 4
 },
 "nbformat": 4,
 "nbformat_minor": 2
}
