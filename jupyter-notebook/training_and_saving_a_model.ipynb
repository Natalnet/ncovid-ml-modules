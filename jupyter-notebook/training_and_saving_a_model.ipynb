{
 "cells": [
  {
   "cell_type": "markdown",
   "source": [
    "# Training and saving a model"
   ],
   "metadata": {}
  },
  {
   "cell_type": "markdown",
   "source": [
    "This script demonstrates how to create and save a model."
   ],
   "metadata": {}
  },
  {
   "cell_type": "markdown",
   "source": [
    "## Set configuration"
   ],
   "metadata": {}
  },
  {
   "cell_type": "markdown",
   "source": [
    "The methods and modules in this example make use of information from the `configure.json` file, which is located in the `/doc` folder. Fill in the blanks in the file. Some of them are: the model type, the number of nodes, the number of epochs in the training step, the size of the data test, the size of the windowing data, checking if the data contains accumulated values, and a flag to apply the moving average."
   ],
   "metadata": {}
  },
  {
   "cell_type": "code",
   "execution_count": 1,
   "source": [
    "configure_json = open('../doc/configure.json', 'r')\n",
    "\n",
    "import json\n",
    "print(json.dumps(json.load(configure_json), indent=4))"
   ],
   "outputs": [
    {
     "output_type": "stream",
     "name": "stdout",
     "text": [
      "{\n",
      "    \"ncovid\": \"ML COVID-19 configure file\",\n",
      "    \"author\": \"NatalNet NCovid\",\n",
      "    \"published_at\": 2021,\n",
      "    \"folder_configs\": {\n",
      "        \"docs_path\": \"../doc/\",\n",
      "        \"data_path\": \"../dbs/\",\n",
      "        \"model_path\": \"fitted_model/\",\n",
      "        \"model_path_remote\": \"https://\",\n",
      "        \"glossary_file\": \"glossary.json\"\n",
      "    },\n",
      "    \"model_configs\": {\n",
      "        \"type_used\": \"Artificial\",\n",
      "        \"is_predicting\": \"False\",\n",
      "        \"Artificial\": {\n",
      "            \"model\": \"lstm\",\n",
      "            \"nodes\": 300,\n",
      "            \"epochs\": 1,\n",
      "            \"dropout\": 0.05,\n",
      "            \"batch_size\": 64,\n",
      "            \"earlystop\": 30,\n",
      "            \"is_output_in_input\": \"True\",\n",
      "            \"data_configs\": {\n",
      "                \"is_accumulated_values\": \"False\",\n",
      "                \"is_apply_moving_average\": \"True\",\n",
      "                \"window_size\": 7,\n",
      "                \"data_test_size_in_days\": 35,\n",
      "                \"type_norm\": \"\"\n",
      "            },\n",
      "            \"Autoregressive\": {\n",
      "                \"model\": \"arima\",\n",
      "                \"p\": 1,\n",
      "                \"d\": 1,\n",
      "                \"q\": 1\n",
      "            },\n",
      "            \"Epidemiological\": {\n",
      "                \"model\": \"sir\",\n",
      "                \"s_initial\": 100,\n",
      "                \"i_initial\": 1,\n",
      "                \"e_initial\": 1,\n",
      "                \"r_initial\": 0,\n",
      "                \"d_initial\": 0\n",
      "            }\n",
      "        }\n",
      "    }\n",
      "}\n"
     ]
    }
   ],
   "metadata": {}
  },
  {
   "cell_type": "markdown",
   "source": [
    "To load this set of configurations, import the configs_manner.py file."
   ],
   "metadata": {}
  },
  {
   "cell_type": "code",
   "execution_count": 4,
   "source": [
    "import sys\n",
    "sys.path.append(\"../src\")\n",
    "\n",
    "import configs_manner\n",
    "from importlib import reload\n",
    "reload(configs_manner)\n",
    "\n",
    "print(\"Model type: \\n\", configs_manner.model_type)\n",
    "print(\"\\n\")\n",
    "print(\"Model subtype: \\n\", configs_manner.model_subtype)\n",
    "print(\"\\n\")\n",
    "print(\"Number of model nodes: \\n\", configs_manner.model_infos[\"model_nodes\"])\n",
    "print(\"\\n\")\n",
    "print(\"Model window size: \\n\", configs_manner.model_infos[\"model_epochs\"])"
   ],
   "outputs": [
    {
     "output_type": "stream",
     "name": "stdout",
     "text": [
      "Model type: \n",
      " Artificial\n",
      "\n",
      "\n",
      "Model subtype: \n",
      " lstm\n",
      "\n",
      "\n",
      "Number of model nodes: \n",
      " 300\n",
      "\n",
      "\n",
      "Model window size: \n",
      " 100\n"
     ]
    }
   ],
   "metadata": {}
  },
  {
   "cell_type": "markdown",
   "source": [
    "To configure any data or model param, just change the value in the `configure.json` file."
   ],
   "metadata": {}
  },
  {
   "cell_type": "markdown",
   "source": [
    "## Build data"
   ],
   "metadata": {}
  },
  {
   "cell_type": "markdown",
   "source": [
    "To build a model, you must first collect and create a dataset, from which some information will be used to automatically build the model architecture. We're making a data request from a remote location."
   ],
   "metadata": {}
  },
  {
   "cell_type": "code",
   "execution_count": 5,
   "source": [
    "# specif code to the remote repository data.\n",
    "repo = \"p971074907\"\n",
    "# coutry and state acronym splited by a \":\"\n",
    "path = \"brl:rn\"\n",
    "# columns (or features) to be extracted from the database, each one splited by a \":\"\n",
    "feature = \"date:newDeaths:newCases:\"\n",
    "# start date for the data request.\n",
    "begin = \"2020-05-01\"\n",
    "# finish date for the data request.\n",
    "end = \"2022-07-01\"\n",
    "\n",
    "# import the data_manner.py file. (taking into account that you are in src/ path)\n",
    "import data_manner\n",
    "\n",
    "# creating the DataConstructor instance\n",
    "data_constructor = data_manner.DataConstructor()\n",
    "# collect data from the remote repository.\n",
    "collected_data = data_constructor.collect_dataframe(path, repo, feature, begin, end)\n",
    "\n",
    "# building the data and train to set up the number of features to model model archtecture.\n",
    "train = data_constructor.build_train(collected_data)"
   ],
   "outputs": [],
   "metadata": {}
  },
  {
   "cell_type": "markdown",
   "source": [
    "## Create model"
   ],
   "metadata": {}
  },
  {
   "cell_type": "markdown",
   "source": [
    "The Artificial model, bound on the Artificial Neural Networks subclass, will be used in this script. It will be the well-known Long-Short Term Memory ANN that is used (LSTM). Almost all procedures in our modules make use of class objects and class methods. To begin creating a model constructor, import the manner associated with the desired mode. In this case, the `lstm manner.py` script is used."
   ],
   "metadata": {}
  },
  {
   "cell_type": "code",
   "execution_count": 6,
   "source": [
    "# import the lstm_manner.py file. (taking into account that you are in src/ path)\n",
    "from models.artificial import lstm_manner"
   ],
   "outputs": [],
   "metadata": {}
  },
  {
   "cell_type": "markdown",
   "source": [
    "Create a model manner instance using `ModelLSTM()`, and build the architecture using the `creation()` method."
   ],
   "metadata": {}
  },
  {
   "cell_type": "code",
   "execution_count": 7,
   "source": [
    "# creating  a model instance\n",
    "lstm_model = lstm_manner.ModelLSTM(path)\n",
    "# set up the model architecture\n",
    "lstm_model.creating()\n",
    "print(lstm_model)"
   ],
   "outputs": [
    {
     "output_type": "stream",
     "name": "stdout",
     "text": [
      "\n",
      "LSTM Model\n",
      "\tinput, output and timesteps: 7\n",
      "\tlstm nodes: 300\n",
      "\tfeatures: 2\n",
      "\tdropout: 0.05\n"
     ]
    }
   ],
   "metadata": {}
  },
  {
   "cell_type": "code",
   "execution_count": 8,
   "source": [
    "lstm_model.model"
   ],
   "outputs": [
    {
     "output_type": "execute_result",
     "data": {
      "text/plain": [
       "<tensorflow.python.keras.engine.functional.Functional at 0x7f13dc300350>"
      ]
     },
     "metadata": {},
     "execution_count": 8
    }
   ],
   "metadata": {}
  },
  {
   "cell_type": "markdown",
   "source": [
    "## Fit model"
   ],
   "metadata": {}
  },
  {
   "cell_type": "markdown",
   "source": [
    "To train the instantiated model, call the `fitting()` model method and pass the train inputs (`train.x`) and the train targets (`train.y`) as the function args."
   ],
   "metadata": {}
  },
  {
   "cell_type": "code",
   "execution_count": 9,
   "source": [
    "print(\"This can take some time.\")\n",
    "lstm_model.fiting(train.x, train.y, verbose=1)\n",
    "print(\"LSTM model trained!\")"
   ],
   "outputs": [
    {
     "output_type": "stream",
     "name": "stdout",
     "text": [
      "This can take some time.\n",
      "Epoch 1/100\n",
      "11/11 [==============================] - 4s 121ms/step - loss: 1157.7187\n",
      "Epoch 2/100\n",
      "11/11 [==============================] - 2s 147ms/step - loss: 2811.4072\n",
      "Epoch 3/100\n",
      "11/11 [==============================] - 1s 101ms/step - loss: 468.9107\n",
      "Epoch 4/100\n",
      "11/11 [==============================] - 1s 133ms/step - loss: 611.5128\n",
      "Epoch 5/100\n",
      "11/11 [==============================] - 2s 177ms/step - loss: 1020.6501\n",
      "Epoch 6/100\n",
      "11/11 [==============================] - 2s 185ms/step - loss: 511.1168\n",
      "Epoch 7/100\n",
      "11/11 [==============================] - 2s 153ms/step - loss: 306.6993\n",
      "Epoch 8/100\n",
      "11/11 [==============================] - 1s 136ms/step - loss: 216.1715\n",
      "Epoch 9/100\n",
      "11/11 [==============================] - 1s 109ms/step - loss: 180.1958\n",
      "Epoch 10/100\n",
      "11/11 [==============================] - 1s 130ms/step - loss: 228.5019\n",
      "Epoch 11/100\n",
      "11/11 [==============================] - 2s 146ms/step - loss: 168.2297\n",
      "Epoch 12/100\n",
      "11/11 [==============================] - 2s 151ms/step - loss: 123.7442\n",
      "Epoch 13/100\n",
      "11/11 [==============================] - 2s 155ms/step - loss: 166.2707\n",
      "Epoch 14/100\n",
      "11/11 [==============================] - 2s 139ms/step - loss: 137.9615\n",
      "Epoch 15/100\n",
      "11/11 [==============================] - 1s 121ms/step - loss: 113.7294\n",
      "Epoch 16/100\n",
      "11/11 [==============================] - 1s 91ms/step - loss: 108.3222\n",
      "Epoch 17/100\n",
      "11/11 [==============================] - 1s 92ms/step - loss: 112.7396\n",
      "Epoch 18/100\n",
      "11/11 [==============================] - 1s 101ms/step - loss: 101.6508\n",
      "Epoch 19/100\n",
      "11/11 [==============================] - 1s 106ms/step - loss: 102.4279\n",
      "Epoch 20/100\n",
      "11/11 [==============================] - 1s 129ms/step - loss: 78.3244\n",
      "Epoch 21/100\n",
      "11/11 [==============================] - 1s 115ms/step - loss: 94.5920\n",
      "Epoch 22/100\n",
      "11/11 [==============================] - 1s 126ms/step - loss: 112.2784\n",
      "Epoch 23/100\n",
      "11/11 [==============================] - 1s 109ms/step - loss: 93.4918\n",
      "Epoch 24/100\n",
      "11/11 [==============================] - 1s 99ms/step - loss: 72.3374\n",
      "Epoch 25/100\n",
      "11/11 [==============================] - 1s 103ms/step - loss: 60.2126\n",
      "Epoch 26/100\n",
      "11/11 [==============================] - 1s 108ms/step - loss: 54.7219\n",
      "Epoch 27/100\n",
      "11/11 [==============================] - 1s 97ms/step - loss: 58.7940\n",
      "Epoch 28/100\n",
      "11/11 [==============================] - 1s 102ms/step - loss: 61.4758\n",
      "Epoch 29/100\n",
      "11/11 [==============================] - 1s 111ms/step - loss: 50.4706\n",
      "Epoch 30/100\n",
      "11/11 [==============================] - 1s 116ms/step - loss: 42.2637\n",
      "Epoch 31/100\n",
      "11/11 [==============================] - 1s 85ms/step - loss: 44.5122\n",
      "Epoch 32/100\n",
      "11/11 [==============================] - 1s 102ms/step - loss: 38.6181\n",
      "Epoch 33/100\n",
      "11/11 [==============================] - 1s 131ms/step - loss: 49.0072\n",
      "Epoch 34/100\n",
      "11/11 [==============================] - 1s 109ms/step - loss: 55.2130\n",
      "Epoch 35/100\n",
      "11/11 [==============================] - 1s 131ms/step - loss: 52.2147\n",
      "Epoch 36/100\n",
      "11/11 [==============================] - 1s 100ms/step - loss: 106.2008\n",
      "Epoch 37/100\n",
      "11/11 [==============================] - 1s 111ms/step - loss: 126.4341\n",
      "Epoch 38/100\n",
      "11/11 [==============================] - 1s 119ms/step - loss: 71.0378\n",
      "Epoch 39/100\n",
      "11/11 [==============================] - 1s 114ms/step - loss: 62.8596\n",
      "Epoch 40/100\n",
      "11/11 [==============================] - 1s 132ms/step - loss: 46.1416\n",
      "Epoch 41/100\n",
      "11/11 [==============================] - 1s 104ms/step - loss: 40.3640\n",
      "Epoch 42/100\n",
      "11/11 [==============================] - 2s 154ms/step - loss: 40.3199\n",
      "Epoch 43/100\n",
      "11/11 [==============================] - 1s 108ms/step - loss: 35.9116\n",
      "Epoch 44/100\n",
      "11/11 [==============================] - 1s 100ms/step - loss: 36.9927\n",
      "Epoch 45/100\n",
      "11/11 [==============================] - 1s 126ms/step - loss: 35.4480\n",
      "Epoch 46/100\n",
      "11/11 [==============================] - 1s 103ms/step - loss: 33.5310\n",
      "Epoch 47/100\n",
      "11/11 [==============================] - 1s 116ms/step - loss: 40.3294\n",
      "Epoch 48/100\n",
      "11/11 [==============================] - 2s 138ms/step - loss: 45.5388\n",
      "Epoch 49/100\n",
      "11/11 [==============================] - 1s 99ms/step - loss: 48.4951\n",
      "Epoch 50/100\n",
      "11/11 [==============================] - 1s 107ms/step - loss: 43.9877\n",
      "Epoch 51/100\n",
      "11/11 [==============================] - 1s 113ms/step - loss: 33.0470\n",
      "Epoch 52/100\n",
      "11/11 [==============================] - 1s 124ms/step - loss: 36.5064\n",
      "Epoch 53/100\n",
      "11/11 [==============================] - 1s 109ms/step - loss: 29.3764\n",
      "Epoch 54/100\n",
      "11/11 [==============================] - 1s 106ms/step - loss: 31.1223\n",
      "Epoch 55/100\n",
      "11/11 [==============================] - 1s 108ms/step - loss: 33.7042\n",
      "Epoch 56/100\n",
      "11/11 [==============================] - 1s 116ms/step - loss: 40.1050\n",
      "Epoch 57/100\n",
      "11/11 [==============================] - 2s 143ms/step - loss: 45.2843\n",
      "Epoch 58/100\n",
      "11/11 [==============================] - 2s 142ms/step - loss: 30.9363\n",
      "Epoch 59/100\n",
      "11/11 [==============================] - 2s 150ms/step - loss: 29.9203\n",
      "Epoch 60/100\n",
      "11/11 [==============================] - 1s 132ms/step - loss: 28.7860\n",
      "Epoch 61/100\n",
      "11/11 [==============================] - 1s 122ms/step - loss: 28.4427\n",
      "Epoch 62/100\n",
      "11/11 [==============================] - 2s 135ms/step - loss: 26.8479\n",
      "Epoch 63/100\n",
      "11/11 [==============================] - 2s 136ms/step - loss: 26.2272\n",
      "Epoch 64/100\n",
      "11/11 [==============================] - 1s 116ms/step - loss: 25.6227\n",
      "Epoch 65/100\n",
      "11/11 [==============================] - 1s 100ms/step - loss: 26.3185\n",
      "Epoch 66/100\n",
      "11/11 [==============================] - 1s 109ms/step - loss: 25.3260\n",
      "Epoch 67/100\n",
      "11/11 [==============================] - 1s 119ms/step - loss: 25.7351\n",
      "Epoch 68/100\n",
      "11/11 [==============================] - 1s 128ms/step - loss: 24.0132\n",
      "Epoch 69/100\n",
      "11/11 [==============================] - 1s 105ms/step - loss: 24.0121\n",
      "Epoch 70/100\n",
      "11/11 [==============================] - 2s 141ms/step - loss: 29.0949\n",
      "Epoch 71/100\n",
      "11/11 [==============================] - 1s 117ms/step - loss: 26.7475\n",
      "Epoch 72/100\n",
      "11/11 [==============================] - 1s 117ms/step - loss: 30.5534\n",
      "Epoch 73/100\n",
      "11/11 [==============================] - 1s 125ms/step - loss: 24.1588\n",
      "Epoch 74/100\n",
      "11/11 [==============================] - 1s 119ms/step - loss: 22.3010\n",
      "Epoch 75/100\n",
      "11/11 [==============================] - 2s 147ms/step - loss: 24.5111\n",
      "Epoch 76/100\n",
      "11/11 [==============================] - 2s 146ms/step - loss: 26.9868\n",
      "Epoch 77/100\n",
      "11/11 [==============================] - 1s 112ms/step - loss: 27.4749\n",
      "Epoch 78/100\n",
      "11/11 [==============================] - 1s 110ms/step - loss: 24.6632\n",
      "Epoch 79/100\n",
      "11/11 [==============================] - 1s 113ms/step - loss: 23.1184\n",
      "Epoch 80/100\n",
      "11/11 [==============================] - 1s 118ms/step - loss: 22.8448\n",
      "Epoch 81/100\n",
      "11/11 [==============================] - 1s 125ms/step - loss: 22.0369\n",
      "Epoch 82/100\n",
      "11/11 [==============================] - 1s 124ms/step - loss: 23.9181\n",
      "Epoch 83/100\n",
      "11/11 [==============================] - 2s 160ms/step - loss: 25.8733\n",
      "Epoch 84/100\n",
      "11/11 [==============================] - 1s 128ms/step - loss: 24.7664\n",
      "Epoch 85/100\n",
      "11/11 [==============================] - 2s 152ms/step - loss: 26.5304\n",
      "Epoch 86/100\n",
      "11/11 [==============================] - 2s 150ms/step - loss: 26.3583\n",
      "Epoch 87/100\n",
      "11/11 [==============================] - 1s 133ms/step - loss: 22.1721\n",
      "Epoch 88/100\n",
      "11/11 [==============================] - 2s 155ms/step - loss: 22.1963\n",
      "Epoch 89/100\n",
      "11/11 [==============================] - 1s 122ms/step - loss: 24.8458\n",
      "Epoch 90/100\n",
      "11/11 [==============================] - 1s 98ms/step - loss: 23.5174\n",
      "Epoch 91/100\n",
      "11/11 [==============================] - 1s 100ms/step - loss: 21.5973\n",
      "Epoch 92/100\n",
      "11/11 [==============================] - 2s 162ms/step - loss: 20.9876\n",
      "Epoch 93/100\n",
      "11/11 [==============================] - 2s 128ms/step - loss: 20.0171\n",
      "Epoch 94/100\n",
      "11/11 [==============================] - 1s 118ms/step - loss: 25.4325\n",
      "Epoch 95/100\n",
      "11/11 [==============================] - 1s 99ms/step - loss: 22.2755\n",
      "Epoch 96/100\n",
      "11/11 [==============================] - 1s 97ms/step - loss: 22.1286\n",
      "Epoch 97/100\n",
      "11/11 [==============================] - 1s 80ms/step - loss: 26.9434\n",
      "Epoch 98/100\n",
      "11/11 [==============================] - 1s 109ms/step - loss: 26.5959\n",
      "Epoch 99/100\n",
      "11/11 [==============================] - 1s 118ms/step - loss: 24.4582\n",
      "Epoch 100/100\n",
      "11/11 [==============================] - 1s 91ms/step - loss: 23.7064\n",
      "LSTM model trained!\n"
     ]
    }
   ],
   "metadata": {}
  },
  {
   "cell_type": "markdown",
   "source": [
    "## Save model"
   ],
   "metadata": {}
  },
  {
   "cell_type": "markdown",
   "source": [
    "To save the model after it has been trained, use the `saving()` method. The save method does not accept a name or any arguments. It will create a unique id for the model in the `dbs/` folder."
   ],
   "metadata": {}
  },
  {
   "cell_type": "code",
   "execution_count": 10,
   "source": [
    "lstm_model.saving(\"_\"+\"rn\")"
   ],
   "outputs": [],
   "metadata": {}
  },
  {
   "cell_type": "markdown",
   "source": [
    "This method will create two files: `metadata.json` and `.h5`. The `metadata.json` file will contain the model information as well as a UUID (unique identifier) that corresponds to the `.h5` file name."
   ],
   "metadata": {}
  }
 ],
 "metadata": {
  "interpreter": {
   "hash": "e0aa926c7c9173752559c45e7da58d685a6b94148f8f16423c34f039b4987f0a"
  },
  "kernelspec": {
   "name": "python3",
   "display_name": "Python 3.7.11 64-bit ('my_env': conda)"
  },
  "language_info": {
   "codemirror_mode": {
    "name": "ipython",
    "version": 3
   },
   "file_extension": ".py",
   "mimetype": "text/x-python",
   "name": "python",
   "nbconvert_exporter": "python",
   "pygments_lexer": "ipython3",
   "version": "3.7.11"
  },
  "orig_nbformat": 4
 },
 "nbformat": 4,
 "nbformat_minor": 2
}