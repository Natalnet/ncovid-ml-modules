{
 "cells": [
  {
   "cell_type": "markdown",
   "metadata": {},
   "source": [
    "# Training and saving a model"
   ]
  },
  {
   "cell_type": "markdown",
   "metadata": {},
   "source": [
    "This script demonstrates how to create and save a model."
   ]
  },
  {
   "cell_type": "markdown",
   "metadata": {},
   "source": [
    "## Set configuration"
   ]
  },
  {
   "cell_type": "markdown",
   "metadata": {},
   "source": [
    "The methods and modules in this example make use of information from the `configure.json` file, which is located in the `/doc` folder. Fill in the blanks in the file. Some of them are: the model type, the number of nodes, the number of epochs in the training step, the size of the data test, the size of the windowing data, checking if the data contains accumulated values, and a flag to apply the moving average."
   ]
  },
  {
   "cell_type": "code",
   "execution_count": 1,
   "metadata": {},
   "outputs": [
    {
     "name": "stdout",
     "output_type": "stream",
     "text": [
      "{\n",
      "    \"ncovid\": \"ML COVID-19 configure file\",\n",
      "    \"author\": \"NatalNet NCovid\",\n",
      "    \"published_at\": 2021,\n",
      "    \"folder_configs\": {\n",
      "        \"docs_path\": \"../doc/\",\n",
      "        \"data_path\": \"../dbs/\",\n",
      "        \"model_path\": \"fitted_model/\",\n",
      "        \"model_path_remote\": \"https://\",\n",
      "        \"glossary_file\": \"glossary.json\"\n",
      "    },\n",
      "    \"model_configs\": {\n",
      "        \"type_used\": \"Artificial\",\n",
      "        \"is_predicting\": \"False\",\n",
      "        \"Artificial\": {\n",
      "            \"model\": \"lstm\",\n",
      "            \"nodes\": 300,\n",
      "            \"epochs\": 100,\n",
      "            \"dropout\": 0.1,\n",
      "            \"batch_size\": 64,\n",
      "            \"earlystop\": 30,\n",
      "            \"is_output_in_input\": \"True\",\n",
      "            \"data_configs\": {\n",
      "                \"is_accumulated_values\": \"False\",\n",
      "                \"is_apply_moving_average\": \"True\",\n",
      "                \"window_size\": 7,\n",
      "                \"data_test_size_in_days\": 35,\n",
      "                \"type_norm\": \"\"\n",
      "            },\n",
      "            \"Autoregressive\": {\n",
      "                \"model\": \"arima\",\n",
      "                \"p\": 1,\n",
      "                \"d\": 1,\n",
      "                \"q\": 1\n",
      "            },\n",
      "            \"Epidemiological\": {\n",
      "                \"model\": \"sir\",\n",
      "                \"s_initial\": 100,\n",
      "                \"i_initial\": 1,\n",
      "                \"e_initial\": 1,\n",
      "                \"r_initial\": 0,\n",
      "                \"d_initial\": 0\n",
      "            }\n",
      "        }\n",
      "    }\n",
      "}\n"
     ]
    }
   ],
   "source": [
    "configure_json = open('../doc/configure.json', 'r')\n",
    "\n",
    "import json\n",
    "print(json.dumps(json.load(configure_json), indent=4))"
   ]
  },
  {
   "cell_type": "markdown",
   "metadata": {},
   "source": [
    "To load this set of configurations, import the configs_manner.py file."
   ]
  },
  {
   "cell_type": "code",
   "execution_count": 2,
   "metadata": {},
   "outputs": [
    {
     "name": "stdout",
     "output_type": "stream",
     "text": [
      "Model type: \n",
      " Artificial\n",
      "\n",
      "\n",
      "Model subtype: \n",
      " lstm\n",
      "\n",
      "\n",
      "Number of model nodes: \n",
      " 300\n",
      "\n",
      "\n",
      "Model window size: \n",
      " 100\n"
     ]
    }
   ],
   "source": [
    "import sys\n",
    "sys.path.append(\"../src\")\n",
    "\n",
    "import configs_manner\n",
    "\n",
    "print(\"Model type: \\n\", configs_manner.model_type)\n",
    "print(\"\\n\")\n",
    "print(\"Model subtype: \\n\", configs_manner.model_subtype)\n",
    "print(\"\\n\")\n",
    "print(\"Number of model nodes: \\n\", configs_manner.model_infos[\"model_nodes\"])\n",
    "print(\"\\n\")\n",
    "print(\"Model window size: \\n\", configs_manner.model_infos[\"model_epochs\"])"
   ]
  },
  {
   "cell_type": "markdown",
   "metadata": {},
   "source": [
    "To configure any data or model param, just change the value in the `configure.json` file."
   ]
  },
  {
   "cell_type": "markdown",
   "metadata": {},
   "source": [
    "## Build data"
   ]
  },
  {
   "cell_type": "markdown",
   "metadata": {},
   "source": [
    "To build a model, you must first collect and create a dataset, from which some information will be used to automatically build the model architecture. We're making a data request from a remote location."
   ]
  },
  {
   "cell_type": "code",
   "execution_count": 3,
   "metadata": {},
   "outputs": [],
   "source": [
    "# specif code to the remote repository data.\n",
    "repo = \"p971074907\"\n",
    "# coutry and state acronym splited by a \":\"\n",
    "path = \"brl:rn\"\n",
    "# columns (or features) to be extracted from the database, each one splited by a \":\"\n",
    "feature = \"date:newDeaths:newCases:\"\n",
    "# start date for the data request.\n",
    "begin = \"2020-05-01\"\n",
    "# finish date for the data request.\n",
    "end = \"2021-07-01\"\n",
    "\n",
    "# import the data_manner.py file. (taking into account that you are in src/ path)\n",
    "import data_manner\n",
    "\n",
    "# creating the DataConstructor instance\n",
    "data_constructor = data_manner.DataConstructor()\n",
    "# collect data from the remote repository.\n",
    "collected_data = data_constructor.collect_dataframe(path, repo, feature, begin, end)\n",
    "\n",
    "# building the data and train to set up the number of features to model model archtecture.\n",
    "train = data_constructor.build_train(collected_data)"
   ]
  },
  {
   "cell_type": "markdown",
   "metadata": {},
   "source": [
    "## Create model"
   ]
  },
  {
   "cell_type": "markdown",
   "metadata": {},
   "source": [
    "The Artificial model, bound on the Artificial Neural Networks subclass, will be used in this script. It will be the well-known Long-Short Term Memory ANN that is used (LSTM). Almost all procedures in our modules make use of class objects and class methods. To begin creating a model constructor, import the manner associated with the desired mode. In this case, the `lstm manner.py` script is used."
   ]
  },
  {
   "cell_type": "code",
   "execution_count": 4,
   "metadata": {},
   "outputs": [],
   "source": [
    "# import the lstm_manner.py file. (taking into account that you are in src/ path)\n",
    "from models.artificial import lstm_manner"
   ]
  },
  {
   "cell_type": "markdown",
   "metadata": {},
   "source": [
    "Create a model manner instance using `ModelLSTM()`, and build the architecture using the `creation()` method."
   ]
  },
  {
   "cell_type": "code",
   "execution_count": 7,
   "metadata": {},
   "outputs": [
    {
     "name": "stdout",
     "output_type": "stream",
     "text": [
      "\n",
      "LSTM Model\n",
      "\tinput, output and timesteps: 7\n",
      "\tlstm nodes: 300\n",
      "\tfeatures: 2\n",
      "\tdropout: 0.1\n"
     ]
    }
   ],
   "source": [
    "# creating  a model instance\n",
    "lstm_model = lstm_manner.ModelLSTM(path)\n",
    "# set up the model architecture\n",
    "lstm_model.creating()\n",
    "print(lstm_model)"
   ]
  },
  {
   "cell_type": "code",
   "execution_count": 8,
   "metadata": {},
   "outputs": [
    {
     "data": {
      "text/plain": [
       "<tensorflow.python.keras.engine.training.Model at 0x7fc63c5bf700>"
      ]
     },
     "execution_count": 8,
     "metadata": {},
     "output_type": "execute_result"
    }
   ],
   "source": [
    "lstm_model.model"
   ]
  },
  {
   "cell_type": "markdown",
   "metadata": {},
   "source": [
    "## Fit model"
   ]
  },
  {
   "cell_type": "markdown",
   "metadata": {},
   "source": [
    "To train the instantiated model, call the `fitting()` model method and pass the train inputs (`train.x`) and the train targets (`train.y`) as the function args."
   ]
  },
  {
   "cell_type": "code",
   "execution_count": 10,
   "metadata": {},
   "outputs": [
    {
     "name": "stdout",
     "output_type": "stream",
     "text": [
      "This can take some time.\n",
      "Epoch 1/100\n",
      "7/7 [==============================] - 0s 17ms/step - loss: 32.0677\n",
      "Epoch 2/100\n",
      "7/7 [==============================] - 0s 16ms/step - loss: 31.7294\n",
      "Epoch 3/100\n",
      "7/7 [==============================] - 0s 17ms/step - loss: 29.4993\n",
      "Epoch 4/100\n",
      "7/7 [==============================] - 0s 16ms/step - loss: 27.6188\n",
      "Epoch 5/100\n",
      "7/7 [==============================] - 0s 15ms/step - loss: 30.1505\n",
      "Epoch 6/100\n",
      "7/7 [==============================] - 0s 15ms/step - loss: 31.1687\n",
      "Epoch 7/100\n",
      "7/7 [==============================] - 0s 17ms/step - loss: 33.5086\n",
      "Epoch 8/100\n",
      "7/7 [==============================] - 0s 16ms/step - loss: 33.8020\n",
      "Epoch 9/100\n",
      "7/7 [==============================] - 0s 15ms/step - loss: 38.9104\n",
      "Epoch 10/100\n",
      "7/7 [==============================] - 0s 15ms/step - loss: 47.1169\n",
      "Epoch 11/100\n",
      "7/7 [==============================] - 0s 15ms/step - loss: 42.7677\n",
      "Epoch 12/100\n",
      "7/7 [==============================] - 0s 15ms/step - loss: 46.8650\n",
      "Epoch 13/100\n",
      "7/7 [==============================] - 0s 15ms/step - loss: 40.2823\n",
      "Epoch 14/100\n",
      "7/7 [==============================] - 0s 16ms/step - loss: 39.3661\n",
      "Epoch 15/100\n",
      "7/7 [==============================] - 0s 19ms/step - loss: 37.9369\n",
      "Epoch 16/100\n",
      "7/7 [==============================] - 0s 17ms/step - loss: 36.8721\n",
      "Epoch 17/100\n",
      "7/7 [==============================] - 0s 15ms/step - loss: 37.9292\n",
      "Epoch 18/100\n",
      "7/7 [==============================] - 0s 14ms/step - loss: 35.3991\n",
      "Epoch 19/100\n",
      "7/7 [==============================] - 0s 16ms/step - loss: 32.3807\n",
      "Epoch 20/100\n",
      "7/7 [==============================] - 0s 15ms/step - loss: 31.2931\n",
      "Epoch 21/100\n",
      "7/7 [==============================] - 0s 16ms/step - loss: 30.3171\n",
      "Epoch 22/100\n",
      "7/7 [==============================] - 0s 18ms/step - loss: 27.5721\n",
      "Epoch 23/100\n",
      "7/7 [==============================] - 0s 15ms/step - loss: 27.0425\n",
      "Epoch 24/100\n",
      "7/7 [==============================] - 0s 16ms/step - loss: 27.8137\n",
      "Epoch 25/100\n",
      "7/7 [==============================] - 0s 16ms/step - loss: 25.6689\n",
      "Epoch 26/100\n",
      "7/7 [==============================] - 0s 15ms/step - loss: 25.7268\n",
      "Epoch 27/100\n",
      "7/7 [==============================] - 0s 16ms/step - loss: 24.6187\n",
      "Epoch 28/100\n",
      "7/7 [==============================] - 0s 17ms/step - loss: 25.1511\n",
      "Epoch 29/100\n",
      "7/7 [==============================] - 0s 16ms/step - loss: 26.9868\n",
      "Epoch 30/100\n",
      "7/7 [==============================] - 0s 15ms/step - loss: 26.9054\n",
      "Epoch 31/100\n",
      "7/7 [==============================] - 0s 16ms/step - loss: 25.9513\n",
      "Epoch 32/100\n",
      "7/7 [==============================] - 0s 16ms/step - loss: 26.1839\n",
      "Epoch 33/100\n",
      "7/7 [==============================] - 0s 16ms/step - loss: 24.4532\n",
      "Epoch 34/100\n",
      "7/7 [==============================] - 0s 15ms/step - loss: 23.1433\n",
      "Epoch 35/100\n",
      "7/7 [==============================] - 0s 17ms/step - loss: 23.8482\n",
      "Epoch 36/100\n",
      "7/7 [==============================] - 0s 17ms/step - loss: 24.9752\n",
      "Epoch 37/100\n",
      "7/7 [==============================] - 0s 15ms/step - loss: 22.1581\n",
      "Epoch 38/100\n",
      "7/7 [==============================] - 0s 15ms/step - loss: 23.4985\n",
      "Epoch 39/100\n",
      "7/7 [==============================] - 0s 15ms/step - loss: 22.9957\n",
      "Epoch 40/100\n",
      "7/7 [==============================] - 0s 15ms/step - loss: 29.2336\n",
      "Epoch 41/100\n",
      "7/7 [==============================] - 0s 15ms/step - loss: 26.4807\n",
      "Epoch 42/100\n",
      "7/7 [==============================] - 0s 15ms/step - loss: 28.0901\n",
      "Epoch 43/100\n",
      "7/7 [==============================] - 0s 14ms/step - loss: 25.2634\n",
      "Epoch 44/100\n",
      "7/7 [==============================] - 0s 16ms/step - loss: 26.7709\n",
      "Epoch 45/100\n",
      "7/7 [==============================] - 0s 16ms/step - loss: 25.0104\n",
      "Epoch 46/100\n",
      "7/7 [==============================] - 0s 16ms/step - loss: 26.3050\n",
      "Epoch 47/100\n",
      "7/7 [==============================] - 0s 16ms/step - loss: 22.6511\n",
      "Epoch 48/100\n",
      "7/7 [==============================] - 0s 16ms/step - loss: 23.3113\n",
      "Epoch 49/100\n",
      "7/7 [==============================] - 0s 15ms/step - loss: 21.3169\n",
      "Epoch 50/100\n",
      "7/7 [==============================] - 0s 15ms/step - loss: 21.8927\n",
      "Epoch 51/100\n",
      "7/7 [==============================] - 0s 15ms/step - loss: 21.3393\n",
      "Epoch 52/100\n",
      "7/7 [==============================] - 0s 15ms/step - loss: 21.1432\n",
      "Epoch 53/100\n",
      "7/7 [==============================] - 0s 16ms/step - loss: 20.2454\n",
      "Epoch 54/100\n",
      "7/7 [==============================] - 0s 16ms/step - loss: 21.7096\n",
      "Epoch 55/100\n",
      "7/7 [==============================] - 0s 15ms/step - loss: 23.3883\n",
      "Epoch 56/100\n",
      "7/7 [==============================] - 0s 16ms/step - loss: 21.4163\n",
      "Epoch 57/100\n",
      "7/7 [==============================] - 0s 14ms/step - loss: 20.8860\n",
      "Epoch 58/100\n",
      "7/7 [==============================] - 0s 18ms/step - loss: 20.7919\n",
      "Epoch 59/100\n",
      "7/7 [==============================] - 0s 18ms/step - loss: 20.5425\n",
      "Epoch 60/100\n",
      "7/7 [==============================] - 0s 19ms/step - loss: 20.4443\n",
      "Epoch 61/100\n",
      "7/7 [==============================] - 0s 20ms/step - loss: 22.1489\n",
      "Epoch 62/100\n",
      "7/7 [==============================] - 0s 18ms/step - loss: 22.6236\n",
      "Epoch 63/100\n",
      "7/7 [==============================] - 0s 20ms/step - loss: 20.8084\n",
      "Epoch 64/100\n",
      "7/7 [==============================] - 0s 18ms/step - loss: 20.2882\n",
      "Epoch 65/100\n",
      "7/7 [==============================] - 0s 19ms/step - loss: 19.5244\n",
      "Epoch 66/100\n",
      "7/7 [==============================] - 0s 19ms/step - loss: 19.8675\n",
      "Epoch 67/100\n",
      "7/7 [==============================] - 0s 18ms/step - loss: 19.4017\n",
      "Epoch 68/100\n",
      "7/7 [==============================] - 0s 21ms/step - loss: 18.0465\n",
      "Epoch 69/100\n",
      "7/7 [==============================] - 0s 16ms/step - loss: 18.3818\n",
      "Epoch 70/100\n",
      "7/7 [==============================] - 0s 16ms/step - loss: 19.5431\n",
      "Epoch 71/100\n",
      "7/7 [==============================] - 0s 15ms/step - loss: 18.2538\n",
      "Epoch 72/100\n",
      "7/7 [==============================] - 0s 15ms/step - loss: 18.5731\n",
      "Epoch 73/100\n",
      "7/7 [==============================] - 0s 15ms/step - loss: 20.5184\n",
      "Epoch 74/100\n",
      "7/7 [==============================] - 0s 15ms/step - loss: 22.8679\n",
      "Epoch 75/100\n",
      "7/7 [==============================] - 0s 16ms/step - loss: 21.3400\n",
      "Epoch 76/100\n",
      "7/7 [==============================] - 0s 17ms/step - loss: 20.2870\n",
      "Epoch 77/100\n",
      "7/7 [==============================] - 0s 16ms/step - loss: 18.9823\n",
      "Epoch 78/100\n",
      "7/7 [==============================] - 0s 15ms/step - loss: 21.9226\n",
      "Epoch 79/100\n",
      "7/7 [==============================] - 0s 15ms/step - loss: 20.3107\n",
      "Epoch 80/100\n",
      "7/7 [==============================] - 0s 14ms/step - loss: 21.9563\n",
      "Epoch 81/100\n",
      "7/7 [==============================] - 0s 16ms/step - loss: 32.1777\n",
      "Epoch 82/100\n",
      "7/7 [==============================] - 0s 16ms/step - loss: 33.4543\n",
      "Epoch 83/100\n",
      "7/7 [==============================] - 0s 16ms/step - loss: 30.6487\n",
      "Epoch 84/100\n",
      "7/7 [==============================] - 0s 16ms/step - loss: 26.7770\n",
      "Epoch 85/100\n",
      "7/7 [==============================] - 0s 16ms/step - loss: 26.4642\n",
      "Epoch 86/100\n",
      "7/7 [==============================] - 0s 15ms/step - loss: 23.7519\n",
      "Epoch 87/100\n",
      "7/7 [==============================] - 0s 16ms/step - loss: 23.3503\n",
      "Epoch 88/100\n",
      "7/7 [==============================] - 0s 15ms/step - loss: 25.6842\n",
      "Epoch 89/100\n",
      "7/7 [==============================] - 0s 16ms/step - loss: 22.9795\n",
      "Epoch 90/100\n",
      "7/7 [==============================] - 0s 15ms/step - loss: 22.0495\n",
      "Epoch 91/100\n",
      "7/7 [==============================] - 0s 16ms/step - loss: 21.9812\n",
      "Epoch 92/100\n",
      "7/7 [==============================] - 0s 16ms/step - loss: 20.5370\n",
      "Epoch 93/100\n",
      "7/7 [==============================] - 0s 16ms/step - loss: 20.0641\n",
      "Epoch 94/100\n",
      "7/7 [==============================] - 0s 16ms/step - loss: 21.6525\n",
      "Epoch 95/100\n",
      "7/7 [==============================] - 0s 15ms/step - loss: 21.6396\n",
      "Epoch 96/100\n",
      "7/7 [==============================] - 0s 16ms/step - loss: 26.7700\n",
      "Epoch 97/100\n",
      "7/7 [==============================] - 0s 15ms/step - loss: 27.2796\n",
      "Epoch 98/100\n",
      "7/7 [==============================] - 0s 15ms/step - loss: 23.9635\n",
      "LSTM model trained!\n"
     ]
    }
   ],
   "source": [
    "print(\"This can take some time.\")\n",
    "lstm_model.fiting(train.x, train.y, verbose=1)\n",
    "print(\"LSTM model trained!\")"
   ]
  },
  {
   "cell_type": "markdown",
   "metadata": {},
   "source": [
    "## Save model"
   ]
  },
  {
   "cell_type": "markdown",
   "metadata": {},
   "source": [
    "To save the model after it has been trained, use the `saving()` method. The save method does not accept a name or any arguments. It will create a unique id for the model in the `dbs/` folder."
   ]
  },
  {
   "cell_type": "code",
   "execution_count": 11,
   "metadata": {},
   "outputs": [],
   "source": [
    "lstm_model.saving()"
   ]
  },
  {
   "cell_type": "markdown",
   "metadata": {},
   "source": [
    "This method will create two files: `metadata.json` and `.h5`. The `metadata.json` file will contain the model information as well as a UUID (unique identifier) that corresponds to the `.h5` file name."
   ]
  }
 ],
 "metadata": {
  "interpreter": {
   "hash": "b48a8372de07dcfb7270582fe52a873b16bfa1fa9f9ee7b27a1873baaed48200"
  },
  "kernelspec": {
   "display_name": "Python 3.8.11 ('ncovid-backend')",
   "language": "python",
   "name": "python3"
  },
  "language_info": {
   "codemirror_mode": {
    "name": "ipython",
    "version": 3
   },
   "file_extension": ".py",
   "mimetype": "text/x-python",
   "name": "python",
   "nbconvert_exporter": "python",
   "pygments_lexer": "ipython3",
   "version": "3.8.5"
  },
  "orig_nbformat": 4
 },
 "nbformat": 4,
 "nbformat_minor": 2
}
