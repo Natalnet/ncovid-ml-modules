{
 "cells": [
  {
   "cell_type": "markdown",
   "metadata": {},
   "source": [
    "# Off-line predicting"
   ]
  },
  {
   "cell_type": "markdown",
   "metadata": {},
   "source": [
    "This script shows how to do an off-line predict using our modules."
   ]
  },
  {
   "cell_type": "markdown",
   "metadata": {},
   "source": [
    "## Create predictor"
   ]
  },
  {
   "cell_type": "markdown",
   "metadata": {},
   "source": [
    "To create a model predictor, differently from the other scripts is not needed to collect and create a dataset neither a model constructor. All thoose steps are being done internally. This script it'll do a remote data request, so before to create the predictor constructor, it is necessary declare the model id, the remote repository, the locality, the features to get, also the start and finish date."
   ]
  },
  {
   "cell_type": "code",
   "execution_count": 5,
   "metadata": {},
   "outputs": [],
   "source": [
    "# If this script is running in another folder, change the base path to the /src folder.\n",
    "import sys\n",
    "sys.path.append(\"../src\")\n",
    "\n",
    "# model local id to be loaded.\n",
    "model_id = \"15ce5f24-b4e1-11ec-9d4f-48a47252b4f8\"\n",
    "# specif code to the remote repository data.\n",
    "repo = \"p971074907\"\n",
    "# coutry and state acronym splited by a \":\"\n",
    "path = \"brl:rn\"\n",
    "# columns (or features) to be extracted from the database, each one splited by a \":\"\n",
    "feature = \"date:newDeaths:newCases:\"\n",
    "# start date for the data request.\n",
    "begin = \"2021-05-01\"\n",
    "# finish date for the data request.\n",
    "end = \"2021-06-01\""
   ]
  },
  {
   "cell_type": "markdown",
   "metadata": {},
   "source": [
    "To create a predictor constructor, is needed to import eh predictor_manner."
   ]
  },
  {
   "cell_type": "code",
   "execution_count": 6,
   "metadata": {},
   "outputs": [],
   "source": [
    "# import the predictor_manner.py file. (taking into account that you are in src/ path)\n",
    "import predictor_manner"
   ]
  },
  {
   "cell_type": "markdown",
   "metadata": {},
   "source": [
    "## Model predict"
   ]
  },
  {
   "cell_type": "markdown",
   "metadata": {},
   "source": [
    "Now, create a predictor constructor passing the previous declared infos."
   ]
  },
  {
   "cell_type": "code",
   "execution_count": 7,
   "metadata": {},
   "outputs": [],
   "source": [
    "# creating the predictor constructor\n",
    "predictor = predictor_manner.PredictorConstructor(model_id, path, repo, feature, begin, end)"
   ]
  },
  {
   "cell_type": "markdown",
   "metadata": {},
   "source": [
    "To predict, just call the predict() methos from the predictor constructor instance."
   ]
  },
  {
   "cell_type": "code",
   "execution_count": 8,
   "metadata": {},
   "outputs": [
    {
     "name": "stdout",
     "output_type": "stream",
     "text": [
      "[28.658253 28.35559  27.929495 27.29579  26.366283 26.758373 26.36212\n",
      " 25.200718 25.159668 25.315691 24.96603  24.430101 25.012344 24.66449\n",
      " 25.12586  27.72374  24.713736 23.82264  25.212585 24.762125 25.7486\n",
      " 20.708523 15.941813 17.581528 17.996464 17.22802  16.429626 16.760101\n",
      " 18.203491 18.39647  19.453468 20.562765 20.340778 20.53829  21.825943\n",
      " 23.772352 25.588251 27.059637 27.009686 27.336712 25.957539 25.37722 ]\n"
     ]
    }
   ],
   "source": [
    "# predicting\n",
    "print(predictor.predict())"
   ]
  },
  {
   "cell_type": "markdown",
   "metadata": {},
   "source": [
    "Internally, the predictor constructor load the data and build a test dataset, so load the model and instanciate it. The predict method retuns a string with the predict values associated to the dates in the most commmom format YYYY-MM-DD"
   ]
  }
 ],
 "metadata": {
  "interpreter": {
   "hash": "b48a8372de07dcfb7270582fe52a873b16bfa1fa9f9ee7b27a1873baaed48200"
  },
  "kernelspec": {
   "display_name": "Python 3.8.11 ('ncovid-backend')",
   "language": "python",
   "name": "python3"
  },
  "language_info": {
   "codemirror_mode": {
    "name": "ipython",
    "version": 3
   },
   "file_extension": ".py",
   "mimetype": "text/x-python",
   "name": "python",
   "nbconvert_exporter": "python",
   "pygments_lexer": "ipython3",
   "version": "3.8.5"
  },
  "orig_nbformat": 4
 },
 "nbformat": 4,
 "nbformat_minor": 2
}
