{
 "cells": [
  {
   "cell_type": "markdown",
   "metadata": {},
   "source": [
    "# Extracting metric"
   ]
  },
  {
   "cell_type": "markdown",
   "metadata": {},
   "source": [
    "This script shows how to extract a metric from a model prediction using our modules."
   ]
  },
  {
   "cell_type": "markdown",
   "metadata": {},
   "source": [
    "## Test model"
   ]
  },
  {
   "cell_type": "markdown",
   "metadata": {},
   "source": [
    "Firstly it'll be needed build a test dataset to feed the model and test it. See [Testing model](testing_a_model.ipynb) more details about this task."
   ]
  },
  {
   "cell_type": "code",
   "execution_count": 2,
   "metadata": {},
   "outputs": [],
   "source": [
    "# If this script is running in another folder, change the base path to the /src folder.\n",
    "import sys\n",
    "sys.path.append(\"../src\")\n",
    "\n",
    "import data_manner\n",
    "from models.artificial import lstm_manner\n",
    "\n",
    "# specif code to the remote repository data.\n",
    "repo = \"p971074907\"\n",
    "# coutry and state acronym splited by a \":\"\n",
    "path = \"brl:rn\"\n",
    "# columns (or features) to be extracted from the database, each one splited by a \":\"\n",
    "feature = \"date:newDeaths:newCases:\"\n",
    "# start date for the data request.\n",
    "begin = \"2021-05-01\"\n",
    "# finish date for the data request.\n",
    "end = \"2021-06-01\"\n",
    "\n",
    "# creating the DataConstructor instance\n",
    "data_constructor = data_manner.DataConstructor()\n",
    "# collect data from the remote repository.\n",
    "collected_data = data_constructor.collect_dataframe(path, repo, feature, begin, end)\n",
    "\n",
    "# building the data test to set up the number of features to model model archtecture.\n",
    "test = data_constructor.build_test(collected_data)\n",
    "\n",
    "# creating  a model instance\n",
    "lstm_model = lstm_manner.ModelLSTM(path)\n",
    "# set up the model architecture\n",
    "lstm_model.creating()\n",
    "\n",
    "# loading the local model\n",
    "lstm_model.loading(\"cee94ec2-ac6e-11ec-84ad-48a47252b4f8\")"
   ]
  },
  {
   "cell_type": "markdown",
   "metadata": {},
   "source": [
    "So, do a prediction with the loaded model."
   ]
  },
  {
   "cell_type": "code",
   "execution_count": 3,
   "metadata": {},
   "outputs": [
    {
     "name": "stdout",
     "output_type": "stream",
     "text": [
      "[[[18.181984]\n",
      "  [18.675354]\n",
      "  [19.057802]\n",
      "  [19.592674]\n",
      "  [20.300001]\n",
      "  [20.900913]\n",
      "  [21.513083]]\n",
      "\n",
      " [[25.144852]\n",
      "  [18.245401]\n",
      "  [21.119781]\n",
      "  [21.131472]\n",
      "  [21.979105]\n",
      "  [23.493237]\n",
      "  [24.91041 ]]\n",
      "\n",
      " [[16.340126]\n",
      "  [14.54763 ]\n",
      "  [15.777545]\n",
      "  [17.427385]\n",
      "  [18.142454]\n",
      "  [19.091387]\n",
      "  [19.845684]]]\n"
     ]
    }
   ],
   "source": [
    "# As arg only the inputs samples\n",
    "predicted = lstm_model.predicting(test.x)\n",
    "print(predicted)"
   ]
  },
  {
   "cell_type": "markdown",
   "metadata": {},
   "source": [
    "## Get metric"
   ]
  },
  {
   "cell_type": "markdown",
   "metadata": {},
   "source": [
    "In the machine learning universe, there are many metrics to extract a value that represents the model accuracy prediction. In this example it'll be used two metrics, the Root Mean Squared Error (RMSE) and the Mean Squared Erro (MAE). To extract this metrics, call the calculate_rmse() and calculate_mse() methods from model, passing the desired values to the prediction (test.y) and the output model values."
   ]
  },
  {
   "cell_type": "code",
   "execution_count": 4,
   "metadata": {},
   "outputs": [
    {
     "name": "stdout",
     "output_type": "stream",
     "text": [
      "RMSE:  [3.2110826428381447, 3.0826608847124595, 5.930874172891174]\n",
      "MSE:  [10.311051739136404, 9.502798130136203, 35.17526845466757]\n"
     ]
    }
   ],
   "source": [
    "# calculating the rmse over the predited values and the desired.\n",
    "rmse = lstm_model.calculate_rmse(test.y, predicted)\n",
    "print(\"RMSE: \", rmse)\n",
    "\n",
    "# calculating the mse over the predited values and the desired.\n",
    "mse = lstm_model.calculate_mse(test.y, predicted)\n",
    "print(\"MSE: \", mse)"
   ]
  },
  {
   "cell_type": "markdown",
   "metadata": {},
   "source": [
    "The returned values are the metric values for the predicted values following the same shape of the inputs models samples and the predicted values."
   ]
  }
 ],
 "metadata": {
  "interpreter": {
   "hash": "b48a8372de07dcfb7270582fe52a873b16bfa1fa9f9ee7b27a1873baaed48200"
  },
  "kernelspec": {
   "display_name": "Python 3.8.11 ('ncovid-backend')",
   "language": "python",
   "name": "python3"
  },
  "language_info": {
   "codemirror_mode": {
    "name": "ipython",
    "version": 3
   },
   "file_extension": ".py",
   "mimetype": "text/x-python",
   "name": "python",
   "nbconvert_exporter": "python",
   "pygments_lexer": "ipython3",
   "version": "3.8.5"
  },
  "orig_nbformat": 4
 },
 "nbformat": 4,
 "nbformat_minor": 2
}
