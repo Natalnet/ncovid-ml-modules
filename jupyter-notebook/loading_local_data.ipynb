{
 "cells": [
  {
   "cell_type": "markdown",
   "metadata": {},
   "source": [
    "# Loading Local Data"
   ]
  },
  {
   "cell_type": "markdown",
   "metadata": {},
   "source": [
    "This script demonstrates how to load a local `.csv` data."
   ]
  },
  {
   "cell_type": "markdown",
   "metadata": {},
   "source": [
    "## Set configuration"
   ]
  },
  {
   "cell_type": "markdown",
   "metadata": {},
   "source": [
    "The methods and modules in this example make use of information from the `configure.json` file, which is located in the `/doc` folder. Fill in the blanks in the file. Some of them are: the model type, the number of nodes, the number of epochs in the training step, the size of the data test, the size of the windowing data, checking if the data contains accumulated values, and a flag to apply the moving average."
   ]
  },
  {
   "cell_type": "code",
   "execution_count": 1,
   "metadata": {},
   "outputs": [
    {
     "name": "stdout",
     "output_type": "stream",
     "text": [
      "{\n",
      "    \"ncovid\": \"ML COVID-19 configure file\",\n",
      "    \"author\": \"NatalNet NCovid\",\n",
      "    \"published_at\": 2021,\n",
      "    \"folder_configs\": {\n",
      "        \"docs_path\": \"../doc/\",\n",
      "        \"data_path\": \"../dbs/\",\n",
      "        \"model_path\": \"fitted_model/\",\n",
      "        \"model_path_remote\": \"https://\",\n",
      "        \"glossary_file\": \"glossary.json\"\n",
      "    },\n",
      "    \"model_configs\": {\n",
      "        \"type_used\": \"Artificial\",\n",
      "        \"is_predicting\": \"False\",\n",
      "        \"Artificial\": {\n",
      "            \"model\": \"lstm\",\n",
      "            \"nodes\": 300,\n",
      "            \"epochs\": 100,\n",
      "            \"dropout\": 0.1,\n",
      "            \"batch_size\": 64,\n",
      "            \"earlystop\": 30,\n",
      "            \"is_output_in_input\": \"True\",\n",
      "            \"data_configs\": {\n",
      "                \"is_accumulated_values\": \"False\",\n",
      "                \"is_apply_moving_average\": \"True\",\n",
      "                \"window_size\": 7,\n",
      "                \"data_test_size_in_days\": 35,\n",
      "                \"type_norm\": \"\"\n",
      "            },\n",
      "            \"Autoregressive\": {\n",
      "                \"model\": \"arima\",\n",
      "                \"p\": 1,\n",
      "                \"d\": 1,\n",
      "                \"q\": 1\n",
      "            },\n",
      "            \"Epidemiological\": {\n",
      "                \"model\": \"sir\",\n",
      "                \"s_initial\": 100,\n",
      "                \"i_initial\": 1,\n",
      "                \"e_initial\": 1,\n",
      "                \"r_initial\": 0,\n",
      "                \"d_initial\": 0\n",
      "            }\n",
      "        }\n",
      "    }\n",
      "}\n"
     ]
    }
   ],
   "source": [
    "configure_json = open('../doc/configure.json', 'r')\n",
    "\n",
    "import json\n",
    "print(json.dumps(json.load(configure_json), indent=4))"
   ]
  },
  {
   "cell_type": "markdown",
   "metadata": {},
   "source": [
    "### Importing the configurations"
   ]
  },
  {
   "cell_type": "code",
   "execution_count": 3,
   "metadata": {},
   "outputs": [
    {
     "name": "stdout",
     "output_type": "stream",
     "text": [
      "Model infos: \n",
      " {'model_nodes': 300, 'model_epochs': 100, 'model_dropout': 0.1, 'model_batch_size': 64, 'model_earlystop': 30, 'model_is_output_in_input': True, 'data_is_accumulated_values': False, 'data_is_apply_moving_average': True, 'data_window_size': 7, 'data_test_size_in_days': 35, 'data_type_norm': ''}\n",
      "\n",
      "\n",
      "Models path: \n",
      " ../dbs/fitted_model/\n",
      "\n",
      "\n",
      "Data path: \n",
      " ../dbs/\n"
     ]
    }
   ],
   "source": [
    "import sys\n",
    "sys.path.append(\"../src\")\n",
    "\n",
    "import configs_manner\n",
    "\n",
    "print(\"Model infos: \\n\", configs_manner.model_infos)\n",
    "print(\"\\n\")\n",
    "print(\"Models path: \\n\", configs_manner.model_path)\n",
    "print(\"\\n\")\n",
    "print(\"Data path: \\n\", configs_manner.data_path)"
   ]
  },
  {
   "cell_type": "markdown",
   "metadata": {},
   "source": [
    "To configure any param, fill the `configure.json` file."
   ]
  },
  {
   "cell_type": "markdown",
   "metadata": {},
   "source": [
    "## Create data"
   ]
  },
  {
   "cell_type": "markdown",
   "metadata": {},
   "source": [
    "Before requesting data, it is necessary to create a `data constructor`, wich will collect and prepare the data for Ncovid.\n",
    "\n",
    "Create a `DataConstructor` and use `.collect_dataframe()`. See [Loading remote data](loading_remote_data.ipynb) file."
   ]
  },
  {
   "cell_type": "code",
   "execution_count": 4,
   "metadata": {},
   "outputs": [],
   "source": [
    "# import the data_manner.py file. (taking into account that you are in src/ path)\n",
    "import data_manner\n",
    "\n",
    "# creating the DataConstructor instance\n",
    "data_constructor = data_manner.DataConstructor()"
   ]
  },
  {
   "cell_type": "markdown",
   "metadata": {},
   "source": [
    "## Collect local data"
   ]
  },
  {
   "cell_type": "markdown",
   "metadata": {},
   "source": [
    "Once the data constructor has been created, use `collect_dataframe()` method to find the local `.csv` data path."
   ]
  },
  {
   "cell_type": "code",
   "execution_count": 5,
   "metadata": {},
   "outputs": [],
   "source": [
    "# collect data from the local path.\n",
    "collected_data = data_constructor.collect_dataframe(configs_manner.data_path + \"df_araraquara.csv\")"
   ]
  },
  {
   "cell_type": "markdown",
   "metadata": {},
   "source": [
    "The collected data is a time-series n-featured-vector.\n",
    "\n",
    "In this example, the data contains two features, represented by columns: covid-19 daily \n",
    "- 1:  cases, and \n",
    "- 2: deaths."
   ]
  },
  {
   "cell_type": "code",
   "execution_count": 6,
   "metadata": {},
   "outputs": [
    {
     "name": "stdout",
     "output_type": "stream",
     "text": [
      "Feature 0 (confirmed cases): length  430\n",
      "Feature 1 (confirmed deaths): length  430\n"
     ]
    }
   ],
   "source": [
    "print(\"Feature 0 (confirmed cases): length \", len(collected_data[0]))\n",
    "print(\"Feature 1 (confirmed deaths): length \", len(collected_data[1]))"
   ]
  }
 ],
 "metadata": {
  "interpreter": {
   "hash": "b48a8372de07dcfb7270582fe52a873b16bfa1fa9f9ee7b27a1873baaed48200"
  },
  "kernelspec": {
   "display_name": "Python 3.8.11 ('ncovid-backend')",
   "language": "python",
   "name": "python3"
  },
  "language_info": {
   "codemirror_mode": {
    "name": "ipython",
    "version": 3
   },
   "file_extension": ".py",
   "mimetype": "text/x-python",
   "name": "python",
   "nbconvert_exporter": "python",
   "pygments_lexer": "ipython3",
   "version": "3.8.5"
  },
  "orig_nbformat": 4
 },
 "nbformat": 4,
 "nbformat_minor": 2
}
