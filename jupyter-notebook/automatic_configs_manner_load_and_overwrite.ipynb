{
 "cells": [
  {
   "cell_type": "markdown",
   "metadata": {},
   "source": [
    "# New configs manner variable loads"
   ]
  },
  {
   "cell_type": "markdown",
   "metadata": {},
   "source": [
    "Now, just change or add any variable in the configs.json to automatic configs_manner.py load."
   ]
  },
  {
   "cell_type": "code",
   "execution_count": 1,
   "metadata": {},
   "outputs": [
    {
     "name": "stdout",
     "output_type": "stream",
     "text": [
      "NODES 300\n",
      "DATA TEST IN DAYS  35\n",
      "WINDOW SIZE  7\n",
      "INPUT DATA FORMAT {'model': 'lstm', 'nodes': 300, 'epochs': 100, 'dropout': 0.1, 'batch_size': 64, 'earlystop': 30, 'is_output_in_input': 'True', 'data_configs': {'is_accumulated_values': 'False', 'is_apply_moving_average': 'True', 'window_size': 7, 'data_test_size_in_days': 35, 'type_norm': '', 'input_data_format': 7, 'output_data_format': 7}, 'Autoregressive': {'model': 'arima', 'p': 1, 'd': 1, 'q': 1}, 'Epidemiological': {'model': 'sir', 's_initial': 100, 'i_initial': 1, 'e_initial': 1, 'r_initial': 0, 'd_initial': 0}}\n"
     ]
    }
   ],
   "source": [
    "import sys\n",
    "\n",
    "sys.path.append(\"../src\")\n",
    "\n",
    "import automatic_configs_manner\n",
    "\n",
    "# automatic configs_manner variables\n",
    "print(\"NODES\", automatic_configs_manner.nodes)\n",
    "print(\"DATA TEST IN DAYS \", automatic_configs_manner.data_test_size_in_days)\n",
    "print(\"WINDOW SIZE \", automatic_configs_manner.window_size)\n",
    "print(\"INPUT DATA FORMAT\", automatic_configs_manner.Artificial)"
   ]
  },
  {
   "cell_type": "markdown",
   "metadata": {},
   "source": [
    "To overwrite, just call the `overwrite()` configs_manner function"
   ]
  },
  {
   "cell_type": "code",
   "execution_count": 2,
   "metadata": {},
   "outputs": [
    {
     "name": "stdout",
     "output_type": "stream",
     "text": [
      "NODES 350\n",
      "DATA TEST IN DAYS  64\n",
      "WINDOW SIZE  15\n",
      "INPUT DATA FORMAT {'model': 'lstm', 'nodes': 350, 'epochs': 100, 'dropout': 0.1, 'batch_size': 64, 'earlystop': 30, 'is_output_in_input': 'True', 'data_configs': {'is_accumulated_values': 'False', 'is_apply_moving_average': 'True', 'window_size': 15, 'data_test_size_in_days': 64, 'type_norm': '', 'input_data_format': 7, 'output_data_format': 7}}\n"
     ]
    }
   ],
   "source": [
    "# define the new values to overwrite\n",
    "dict_to_overwrite = {\"model_configs\": {\n",
    "    \"type_used\": \"Artificial\",\n",
    "    \"is_predicting\": \"False\",\n",
    "    \"Artificial\": {\n",
    "      \"model\": \"lstm\",\n",
    "      \"nodes\": 350,\n",
    "      \"epochs\": 100,\n",
    "      \"dropout\": 0.1,\n",
    "      \"batch_size\": 64,\n",
    "      \"earlystop\": 30,\n",
    "      \"is_output_in_input\": \"True\",\n",
    "      \"data_configs\": {\n",
    "        \"is_accumulated_values\": \"False\",\n",
    "        \"is_apply_moving_average\": \"True\",\n",
    "        \"window_size\": 15,\n",
    "        \"data_test_size_in_days\": 64,\n",
    "        \"type_norm\": \"\",\n",
    "        \"input_data_format\": 7,\n",
    "        \"output_data_format\": 7\n",
    "        }\n",
    "      }\n",
    "    }\n",
    "}\n",
    "\n",
    "automatic_configs_manner.overwrite(dict_to_overwrite)\n",
    "\n",
    "print(\"NODES\", automatic_configs_manner.nodes)\n",
    "print(\"DATA TEST IN DAYS \", automatic_configs_manner.data_test_size_in_days)\n",
    "print(\"WINDOW SIZE \", automatic_configs_manner.window_size)\n",
    "print(\"INPUT DATA FORMAT\", automatic_configs_manner.Artificial)"
   ]
  }
 ],
 "metadata": {
  "interpreter": {
   "hash": "b48a8372de07dcfb7270582fe52a873b16bfa1fa9f9ee7b27a1873baaed48200"
  },
  "kernelspec": {
   "display_name": "Python 3.8.11 ('ncovid-backend')",
   "language": "python",
   "name": "python3"
  },
  "language_info": {
   "codemirror_mode": {
    "name": "ipython",
    "version": 3
   },
   "file_extension": ".py",
   "mimetype": "text/x-python",
   "name": "python",
   "nbconvert_exporter": "python",
   "pygments_lexer": "ipython3",
   "version": "3.8.11"
  },
  "orig_nbformat": 4
 },
 "nbformat": 4,
 "nbformat_minor": 2
}
