{
 "cells": [
  {
   "cell_type": "markdown",
   "metadata": {},
   "source": [
    "# New configs manner variable loads"
   ]
  },
  {
   "cell_type": "markdown",
   "metadata": {},
   "source": [
    "Now, just change or add any variable in the configs.json to automatic configs_manner.py load."
   ]
  },
  {
   "cell_type": "code",
   "execution_count": 1,
   "metadata": {},
   "outputs": [
    {
     "name": "stdout",
     "output_type": "stream",
     "text": [
      "NODES 300\n",
      "DATA TEST IN DAYS  35\n",
      "WINDOW SIZE  7\n",
      "INPUT DATA FORMAT {'model': 'sir', 'nodes': 300, 'epochs': 100, 'dropout': 0.05, 'batch_size': 64, 'earlystop': 50, 'is_output_in_input': True, 'data_configs': {'is_apply_differencing': 'False', 'is_apply_moving_average': True, 'moving_average_window_size': 7, 'window_size': 7, 'data_test_size_in_days': 35, 'type_norm': '', 'repo': 'p971074907', 'path': 'brl:rn', 'input_features': 'newDeaths', 'output_features': 'newDeaths', 'date_begin': '2020-05-01', 'date_end': '2022-04-17'}, 'Autoregressive': {'model': 'sir', 'p': 1, 'd': 1, 'q': 1}, 'Epidemiological': {'model': 'sir', 's_initial': 100, 'i_initial': 1, 'e_initial': 1, 'r_initial': 0, 'd_initial': 0}}\n"
     ]
    }
   ],
   "source": [
    "import sys\n",
    "\n",
    "sys.path.append(\"../src\")\n",
    "\n",
    "import configs_manner\n",
    "\n",
    "# automatic configs_manner variables\n",
    "print(\"NODES\", configs_manner.nodes)\n",
    "print(\"DATA TEST IN DAYS \", configs_manner.data_test_size_in_days)\n",
    "print(\"WINDOW SIZE \", configs_manner.window_size)\n",
    "print(\"INPUT DATA FORMAT\", configs_manner.Artificial)"
   ]
  },
  {
   "cell_type": "markdown",
   "metadata": {},
   "source": [
    "To overwrite, just call the `overwrite()` configs_manner function"
   ]
  },
  {
   "cell_type": "code",
   "execution_count": 2,
   "metadata": {},
   "outputs": [
    {
     "name": "stdout",
     "output_type": "stream",
     "text": [
      "NODES 350\n",
      "DATA TEST IN DAYS  64\n",
      "WINDOW SIZE  15\n",
      "INPUT DATA FORMAT {'model': 'lstm', 'nodes': 350, 'epochs': 100, 'dropout': 0.1, 'batch_size': 64, 'earlystop': 30, 'is_output_in_input': True, 'data_configs': {'is_accumulated_values': 'False', 'is_apply_moving_average': True, 'window_size': 15, 'data_test_size_in_days': 64, 'type_norm': '', 'input_data_format': 7, 'output_data_format': 7}}\n"
     ]
    }
   ],
   "source": [
    "# define the new values to overwrite\n",
    "dict_to_overwrite = {\"model_configs\": {\n",
    "    \"type_used\": \"Artificial\",\n",
    "    \"is_predicting\": \"False\",\n",
    "    \"Artificial\": {\n",
    "      \"model\": \"lstm\",\n",
    "      \"nodes\": 350,\n",
    "      \"epochs\": 100,\n",
    "      \"dropout\": 0.1,\n",
    "      \"batch_size\": 64,\n",
    "      \"earlystop\": 30,\n",
    "      \"is_output_in_input\": \"True\",\n",
    "      \"data_configs\": {\n",
    "        \"is_accumulated_values\": \"False\",\n",
    "        \"is_apply_moving_average\": \"True\",\n",
    "        \"window_size\": 15,\n",
    "        \"data_test_size_in_days\": 64,\n",
    "        \"type_norm\": \"\",\n",
    "        \"input_data_format\": 7,\n",
    "        \"output_data_format\": 7\n",
    "        }\n",
    "      }\n",
    "    }\n",
    "}\n",
    "\n",
    "configs_manner.overwrite(dict_to_overwrite)\n",
    "\n",
    "print(\"NODES\", configs_manner.nodes)\n",
    "print(\"DATA TEST IN DAYS \", configs_manner.data_test_size_in_days)\n",
    "print(\"WINDOW SIZE \", configs_manner.window_size)\n",
    "print(\"INPUT DATA FORMAT\", configs_manner.Artificial)"
   ]
  },
  {
   "cell_type": "markdown",
   "metadata": {},
   "source": [
    "Now, varibles are automatic turn in bool type"
   ]
  },
  {
   "cell_type": "code",
   "execution_count": 3,
   "metadata": {},
   "outputs": [
    {
     "name": "stdout",
     "output_type": "stream",
     "text": [
      "Var type <class 'bool'>\n"
     ]
    }
   ],
   "source": [
    "# True or false variable are automatic bool \n",
    "print(\"Var type\", type(configs_manner.is_output_in_input))"
   ]
  },
  {
   "cell_type": "markdown",
   "metadata": {},
   "source": [
    "It is possible to, combine variables to generate new."
   ]
  },
  {
   "cell_type": "code",
   "execution_count": 6,
   "metadata": {},
   "outputs": [
    {
     "name": "stdout",
     "output_type": "stream",
     "text": [
      "Variables to be combined ['brl:rn', '/', 'p971074907']\n",
      "New variable combined brl:rn/p971074907\n"
     ]
    }
   ],
   "source": [
    "# combine configs names and generate a new one.\n",
    "vars_to_combine = [configs_manner.path, \"/\", configs_manner.repo]\n",
    "print(\"Variables to be combined\", vars_to_combine)\n",
    "\n",
    "# set up the new variable name you want\n",
    "new_var_name = 'path_remote'\n",
    "\n",
    "#call the method to combine and add this new var to the configs globals\n",
    "configs_manner.combine_configures_names_and_add_to_globals(vars_to_combine, new_var_name)\n",
    "\n",
    "print(\"New variable combined\", configs_manner.path_remote)"
   ]
  },
  {
   "cell_type": "markdown",
   "metadata": {},
   "source": [
    "If you create some new variable in you code and this variable is an inner variable of a dictionary too, when added, the value will superscribe the past value in the dictionary instances."
   ]
  },
  {
   "cell_type": "code",
   "execution_count": 6,
   "metadata": {},
   "outputs": [
    {
     "name": "stdout",
     "output_type": "stream",
     "text": [
      "From dictionary:  True\n",
      "Data Configs dictionary:  {'is_apply_differencing': 'False', 'is_apply_moving_average': True, 'moving_average_window_size': 7, 'window_size': 7, 'data_test_size_in_days': 35, 'type_norm': '', 'repo': 'p971074907', 'path': 'brl:rn', 'input_features': 'newDeaths', 'output_features': 'newDeaths', 'date_begin': '2020-05-01', 'date_end': '2022-04-17', 'new_variable': True}\n"
     ]
    }
   ],
   "source": [
    "# Creating a new variable in data_configures dictionary.\n",
    "configs_manner.data_configs[\"new_variable\"] = True\n",
    "\n",
    "# You can access the variable only through the dictionary variable.\n",
    "print(\"From dictionary: \", configs_manner.data_configs[\"new_variable\"])\n",
    "print(\"Data Configs dictionary: \", configs_manner.data_configs)"
   ]
  },
  {
   "cell_type": "markdown",
   "metadata": {},
   "source": [
    "If you use the `add_variable_to_blogals()` method from `configs_manner.py` you can acess directly the variable."
   ]
  },
  {
   "cell_type": "code",
   "execution_count": 8,
   "metadata": {},
   "outputs": [
    {
     "name": "stdout",
     "output_type": "stream",
     "text": [
      "Diretly access:  True\n",
      "Data Configs dictionary:  {'is_apply_differencing': 'False', 'is_apply_moving_average': True, 'moving_average_window_size': 7, 'window_size': 7, 'data_test_size_in_days': 35, 'type_norm': '', 'repo': 'p971074907', 'path': 'brl:rn', 'input_features': 'newDeaths', 'output_features': 'newDeaths', 'date_begin': '2020-05-01', 'date_end': '2022-04-17', 'new_variable': True}\n"
     ]
    }
   ],
   "source": [
    "new_variable_name = 'new_variable'\n",
    "variable_value = True\n",
    "\n",
    "configs_manner.add_variable_to_globals(new_variable_name, variable_value)\n",
    "\n",
    "print(\"Diretly access: \", configs_manner.new_variable)\n",
    "print(\"Data Configs dictionary: \", configs_manner.data_configs)"
   ]
  },
  {
   "cell_type": "markdown",
   "metadata": {},
   "source": [
    "If you want to change the new variable value, call the `add_variable_to_globals()` passing the new variable value."
   ]
  },
  {
   "cell_type": "code",
   "execution_count": 9,
   "metadata": {},
   "outputs": [
    {
     "name": "stdout",
     "output_type": "stream",
     "text": [
      "Diretly access:  False\n",
      "Data Configs dictionary:  {'is_apply_differencing': 'False', 'is_apply_moving_average': True, 'moving_average_window_size': 7, 'window_size': 7, 'data_test_size_in_days': 35, 'type_norm': '', 'repo': 'p971074907', 'path': 'brl:rn', 'input_features': 'newDeaths', 'output_features': 'newDeaths', 'date_begin': '2020-05-01', 'date_end': '2022-04-17', 'new_variable': False}\n"
     ]
    }
   ],
   "source": [
    "new_variable_name = 'new_variable'\n",
    "variable_value = False\n",
    "\n",
    "configs_manner.add_variable_to_globals(new_variable_name, variable_value)\n",
    "\n",
    "print(\"Diretly access: \", configs_manner.new_variable)\n",
    "print(\"Data Configs dictionary: \", configs_manner.data_configs)"
   ]
  },
  {
   "cell_type": "code",
   "execution_count": null,
   "metadata": {},
   "outputs": [],
   "source": []
  }
 ],
 "metadata": {
  "interpreter": {
   "hash": "b48a8372de07dcfb7270582fe52a873b16bfa1fa9f9ee7b27a1873baaed48200"
  },
  "kernelspec": {
   "display_name": "Python 3.8.11 ('ncovid-backend')",
   "language": "python",
   "name": "python3"
  },
  "language_info": {
   "codemirror_mode": {
    "name": "ipython",
    "version": 3
   },
   "file_extension": ".py",
   "mimetype": "text/x-python",
   "name": "python",
   "nbconvert_exporter": "python",
   "pygments_lexer": "ipython3",
   "version": "3.8.11"
  },
  "orig_nbformat": 4
 },
 "nbformat": 4,
 "nbformat_minor": 2
}
