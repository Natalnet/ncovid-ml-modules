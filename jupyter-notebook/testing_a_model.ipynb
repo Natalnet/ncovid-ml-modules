{
 "cells": [
  {
   "cell_type": "markdown",
   "metadata": {},
   "source": [
    "# Testing model"
   ]
  },
  {
   "cell_type": "markdown",
   "metadata": {},
   "source": [
    "This script shows how to test a model using our modules\n",
    "."
   ]
  },
  {
   "cell_type": "markdown",
   "metadata": {},
   "source": [
    "## Build Test"
   ]
  },
  {
   "cell_type": "markdown",
   "metadata": {},
   "source": [
    "Firstly it'll be needed build a test dataset to feed the model. See [Building test dataset](building_test_dataset.ipynb) to learn more."
   ]
  },
  {
   "cell_type": "code",
   "execution_count": 1,
   "metadata": {},
   "outputs": [],
   "source": [
    "# If this script is running in another folder, change the base path to the /src folder.\n",
    "import sys\n",
    "sys.path.append(\"../src\")\n",
    "\n",
    "# specif code to the remote repository data.\n",
    "repo = \"p971074907\"\n",
    "# coutry and state acronym splited by a \":\"\n",
    "path = \"brl:rn\"\n",
    "# columns (or features) to be extracted from the database, each one splited by a \":\"\n",
    "feature = \"date:newDeaths:newCases:\"\n",
    "# start date for the data request.\n",
    "begin = \"2021-05-01\"\n",
    "# finish date for the data request.\n",
    "end = \"2021-06-01\"\n",
    "\n",
    "# import the data_manner.py file. (taking into account that you are in src/ path)\n",
    "import data_manner\n",
    "\n",
    "# creating the DataConstructor instance\n",
    "data_constructor = data_manner.DataConstructor()\n",
    "# collect data from the remote repository.\n",
    "collected_data = data_constructor.collect_dataframe(path, repo, feature, begin, end)\n",
    "\n",
    "# building the data test to set up the number of features to model model archtecture.\n",
    "test = data_constructor.build_test(collected_data)"
   ]
  },
  {
   "cell_type": "markdown",
   "metadata": {},
   "source": [
    "## Load model"
   ]
  },
  {
   "cell_type": "markdown",
   "metadata": {},
   "source": [
    "In this example it'll be used a local model to test. See [Loading local model](loading_a_local_model.ipynb) to more details about this task."
   ]
  },
  {
   "cell_type": "code",
   "execution_count": 2,
   "metadata": {},
   "outputs": [],
   "source": [
    "# import the lstm_manner.py file. (taking into account that you are in src/ path)\n",
    "from models.artificial import lstm_manner\n",
    "\n",
    "# creating  a model instance\n",
    "lstm_model = lstm_manner.ModelLSTM(path)\n",
    "# set up the model architecture\n",
    "lstm_model.creating()\n",
    "\n",
    "# loading the local model\n",
    "lstm_model.loading(\"cee94ec2-ac6e-11ec-84ad-48a47252b4f8\")"
   ]
  },
  {
   "cell_type": "code",
   "execution_count": 3,
   "metadata": {},
   "outputs": [
    {
     "data": {
      "text/plain": [
       "<tensorflow.python.keras.engine.training.Model at 0x7f3c0822f2e0>"
      ]
     },
     "execution_count": 3,
     "metadata": {},
     "output_type": "execute_result"
    }
   ],
   "source": [
    "lstm_model.model"
   ]
  },
  {
   "cell_type": "markdown",
   "metadata": {},
   "source": [
    "With the model loaded, use the predicting() model method passing the test data inputs (test.x) as arg and store the predicted values in the variable."
   ]
  },
  {
   "cell_type": "code",
   "execution_count": 4,
   "metadata": {},
   "outputs": [
    {
     "name": "stdout",
     "output_type": "stream",
     "text": [
      "Predicted values [[[18.181984]\n",
      "  [18.675354]\n",
      "  [19.057802]\n",
      "  [19.592674]\n",
      "  [20.300001]\n",
      "  [20.900913]\n",
      "  [21.513083]]\n",
      "\n",
      " [[25.144852]\n",
      "  [18.245401]\n",
      "  [21.119781]\n",
      "  [21.131472]\n",
      "  [21.979105]\n",
      "  [23.493237]\n",
      "  [24.91041 ]]\n",
      "\n",
      " [[16.340126]\n",
      "  [14.54763 ]\n",
      "  [15.777545]\n",
      "  [17.427385]\n",
      "  [18.142454]\n",
      "  [19.091387]\n",
      "  [19.845684]]]\n"
     ]
    }
   ],
   "source": [
    "# As arg only the inputs samples\n",
    "predicted = lstm_model.predicting(test.x)\n",
    "\n",
    "print(\"Predicted values\", predicted)"
   ]
  },
  {
   "cell_type": "markdown",
   "metadata": {},
   "source": [
    "The predicted values has the same shape of the input samples. If you wanted a different shape to the output data, use the reshape() python function."
   ]
  },
  {
   "cell_type": "code",
   "execution_count": 5,
   "metadata": {},
   "outputs": [
    {
     "name": "stdout",
     "output_type": "stream",
     "text": [
      "Inputs shape (3, 7, 2)\n",
      "Predicted shape (3, 7, 1)\n"
     ]
    }
   ],
   "source": [
    "print(\"Inputs shape\", test.x.shape)\n",
    "print(\"Predicted shape\", predicted.shape)"
   ]
  },
  {
   "cell_type": "code",
   "execution_count": 6,
   "metadata": {},
   "outputs": [
    {
     "name": "stdout",
     "output_type": "stream",
     "text": [
      "[18.181984 18.675354 19.057802 19.592674 20.300001 20.900913 21.513083\n",
      " 25.144852 18.245401 21.119781 21.131472 21.979105 23.493237 24.91041\n",
      " 16.340126 14.54763  15.777545 17.427385 18.142454 19.091387 19.845684]\n"
     ]
    }
   ],
   "source": [
    "# If you want a 1-D shape to plot\n",
    "print(predicted.reshape(-1))"
   ]
  },
  {
   "cell_type": "code",
   "execution_count": null,
   "metadata": {},
   "outputs": [],
   "source": []
  }
 ],
 "metadata": {
  "interpreter": {
   "hash": "b48a8372de07dcfb7270582fe52a873b16bfa1fa9f9ee7b27a1873baaed48200"
  },
  "kernelspec": {
   "display_name": "Python 3.8.11 ('ncovid-backend')",
   "language": "python",
   "name": "python3"
  },
  "language_info": {
   "codemirror_mode": {
    "name": "ipython",
    "version": 3
   },
   "file_extension": ".py",
   "mimetype": "text/x-python",
   "name": "python",
   "nbconvert_exporter": "python",
   "pygments_lexer": "ipython3",
   "version": "3.8.5"
  },
  "orig_nbformat": 4
 },
 "nbformat": 4,
 "nbformat_minor": 2
}
