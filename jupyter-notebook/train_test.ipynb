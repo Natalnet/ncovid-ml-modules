{
 "cells": [
  {
   "cell_type": "markdown",
   "metadata": {},
   "source": [
    "# Tain and Test a LSTM model"
   ]
  },
  {
   "cell_type": "markdown",
   "metadata": {},
   "source": [
    "This script shows how to train, test and save a model using our modules."
   ]
  },
  {
   "cell_type": "markdown",
   "metadata": {},
   "source": [
    "## Data Management"
   ]
  },
  {
   "cell_type": "markdown",
   "metadata": {},
   "source": [
    "Firstly, it's needed to deal with some data menagements procedures. So, import the data_manner.py file."
   ]
  },
  {
   "cell_type": "code",
   "execution_count": 1,
   "metadata": {},
   "outputs": [],
   "source": [
    "# If this script is running in another folder, change the base path to the /src folder.\n",
    "import sys\n",
    "sys.path.append(\"../src\")\n",
    "\n",
    "# Then import the data_manner.py file.\n",
    "import data_manner"
   ]
  },
  {
   "cell_type": "markdown",
   "metadata": {},
   "source": [
    "After that, defines the variables to collect the data from a specific repository."
   ]
  },
  {
   "cell_type": "code",
   "execution_count": 2,
   "metadata": {},
   "outputs": [],
   "source": [
    "# specif code to the repository data.\n",
    "repo = \"p971074907\"\n",
    "# coutry and state acronym splited by a \":\"\n",
    "path = \"brl:rn\"\n",
    "# columns (or features) to be extracted from the database, each one splited by a \":\"\n",
    "feature = \"date:newDeaths:newCases:\"\n",
    "# start date for the data request.\n",
    "begin = \"2020-05-01\"\n",
    "# finish date for the data request.\n",
    "end = \"2021-07-01\""
   ]
  },
  {
   "cell_type": "markdown",
   "metadata": {},
   "source": [
    "In our modules, almost all procedures uses class objects and class methods. To collected data from a web .csv file or from our repository data file, use the DataConstructor() constructor and calls the method .collect_dataframe() with the just defined values "
   ]
  },
  {
   "cell_type": "code",
   "execution_count": 3,
   "metadata": {},
   "outputs": [],
   "source": [
    "# creating the DataConstructor instance\n",
    "data_constructor = data_manner.DataConstructor()\n",
    "# collect data from repository.\n",
    "collected_data = data_constructor.collect_dataframe(path, repo, feature, begin, end)"
   ]
  },
  {
   "cell_type": "markdown",
   "metadata": {},
   "source": [
    "The collected data is a N-feature vector, where each feature is a vector with the size of the days number."
   ]
  },
  {
   "cell_type": "code",
   "execution_count": 4,
   "metadata": {},
   "outputs": [
    {
     "name": "stdout",
     "output_type": "stream",
     "text": [
      "Feature 0 (newDeaths) from 2020-05-01 to 2021-07-01: length  427\n",
      "Feature 1 (newCases) from 2020-05-01 to 2021-07-01: length  427\n"
     ]
    }
   ],
   "source": [
    "print(\"Feature 0 (newDeaths) from 2020-05-01 to 2021-07-01: length \", len(collected_data[0]))\n",
    "print(\"Feature 1 (newCases) from 2020-05-01 to 2021-07-01: length \", len(collected_data[1]))"
   ]
  },
  {
   "cell_type": "markdown",
   "metadata": {},
   "source": [
    "Internally some data processings is done to deal with the data variation, like moving avarage or data difference.\n",
    "\n",
    "With the collected data, call the .build_train_test() method to transpose the data to the right shape."
   ]
  },
  {
   "cell_type": "code",
   "execution_count": 5,
   "metadata": {},
   "outputs": [
    {
     "name": "stdout",
     "output_type": "stream",
     "text": [
      "Tain X and Train target shapes:  (378, 7, 2) (378, 7, 1)\n",
      "Test X and Test target shapes:  (4, 7, 2) (4, 7, 1)\n"
     ]
    }
   ],
   "source": [
    "# To change the test size, modify the configure.json param \"data_test_size_in_days\", in the /doc folder.\n",
    "train, test = data_constructor.build_train_test(collected_data)\n",
    "\n",
    "print(\"Tain X and Train target shapes: \", train.x.shape, train.y.shape)\n",
    "print(\"Test X and Test target shapes: \", test.x.shape, test.y.shape)"
   ]
  },
  {
   "cell_type": "markdown",
   "metadata": {},
   "source": [
    "## Creating and training a model"
   ]
  },
  {
   "cell_type": "markdown",
   "metadata": {},
   "source": [
    "As was said, to create a model use a class instance of the desired model.\n",
    "\n",
    "In our modules, the models folder contains the files referring to each of the implemented models. This test will uses a LSTM model, so import the lstm_manner.py file."
   ]
  },
  {
   "cell_type": "code",
   "execution_count": 6,
   "metadata": {},
   "outputs": [],
   "source": [
    "# Once the system path as changed, it's not needed swtiched it again.\n",
    "\n",
    "# access the models/artificial path and import\n",
    "from models.artificial import lstm_manner"
   ]
  },
  {
   "cell_type": "markdown",
   "metadata": {},
   "source": [
    "Now, create an LSTM model constructor instance and call the .creating() method to set up the model architecture defined in the configure.json file (/doc)."
   ]
  },
  {
   "cell_type": "code",
   "execution_count": 7,
   "metadata": {},
   "outputs": [],
   "source": [
    "lstm_model = lstm_manner.ModelLSTM(path)\n",
    "lstm_model.creating()"
   ]
  },
  {
   "cell_type": "markdown",
   "metadata": {},
   "source": [
    "With the model created using the desired architecture, call the .fiting() method passing the train.x and train.y data to train the model with the internal default routine and the well-defined params in the configure.json file."
   ]
  },
  {
   "cell_type": "code",
   "execution_count": 8,
   "metadata": {},
   "outputs": [
    {
     "data": {
      "text/plain": [
       "True"
      ]
     },
     "execution_count": 8,
     "metadata": {},
     "output_type": "execute_result"
    }
   ],
   "source": [
    "# the verborse argument has to be equal zero if the machine used to train the model has no GPU processing.\n",
    "lstm_model.fiting(train.x, train.y, verbose=0)"
   ]
  },
  {
   "cell_type": "markdown",
   "metadata": {},
   "source": [
    "## Testing the just trained model"
   ]
  },
  {
   "cell_type": "markdown",
   "metadata": {},
   "source": [
    "When the model was trained, use the .predicting() method from the model instance object, passing the test.x data and store the result in a variable."
   ]
  },
  {
   "cell_type": "code",
   "execution_count": 9,
   "metadata": {},
   "outputs": [],
   "source": [
    "yhat = lstm_model.predicting(test.x)"
   ]
  },
  {
   "cell_type": "markdown",
   "metadata": {},
   "source": [
    "With the prediction values, use the methods as .calculate_rmse() and .calculate_mse() to extract those metrics from forecasted values."
   ]
  },
  {
   "cell_type": "code",
   "execution_count": 10,
   "metadata": {},
   "outputs": [
    {
     "name": "stdout",
     "output_type": "stream",
     "text": [
      "RMSE to data Test:  [14.35729610622325, 4.11787575083366, 3.082998106701867, 26.25647594600296]\n",
      "MSE to data Test:  [206.13195148177329, 16.95690069930388, 9.504877325927295, 689.4025291030321]\n"
     ]
    }
   ],
   "source": [
    "predicted_rmse = lstm_model.calculate_rmse(test.y, yhat)\n",
    "predicted_mse = lstm_model.calculate_mse(test.y, yhat)\n",
    "\n",
    "print(\"RMSE to data Test: \", predicted_rmse)\n",
    "print(\"MSE to data Test: \", predicted_mse)"
   ]
  },
  {
   "cell_type": "markdown",
   "metadata": {},
   "source": [
    "The retuned values are the calculated metric value for each test.x input."
   ]
  },
  {
   "cell_type": "markdown",
   "metadata": {},
   "source": [
    "## Saving the trained model"
   ]
  },
  {
   "cell_type": "markdown",
   "metadata": {},
   "source": [
    "If the model has satisfied metrics (or no), to save it, just call the method .saving()\n",
    "\n",
    "A .h5 file will be saved on the /dbs/fitted_model path and the name is an unic ID (uuid) hash. \n",
    "\n",
    "Along with the model, a file named metada.json (/doc) will also be saved, storing information regarding the training of the model."
   ]
  },
  {
   "cell_type": "code",
   "execution_count": 11,
   "metadata": {},
   "outputs": [],
   "source": [
    "lstm_model.saving()"
   ]
  }
 ],
 "metadata": {
  "interpreter": {
   "hash": "b48a8372de07dcfb7270582fe52a873b16bfa1fa9f9ee7b27a1873baaed48200"
  },
  "kernelspec": {
   "display_name": "Python 3.8.11 ('ncovid-backend')",
   "language": "python",
   "name": "python3"
  },
  "language_info": {
   "codemirror_mode": {
    "name": "ipython",
    "version": 3
   },
   "file_extension": ".py",
   "mimetype": "text/x-python",
   "name": "python",
   "nbconvert_exporter": "python",
   "pygments_lexer": "ipython3",
   "version": "3.8.5"
  },
  "orig_nbformat": 4
 },
 "nbformat": 4,
 "nbformat_minor": 2
}
