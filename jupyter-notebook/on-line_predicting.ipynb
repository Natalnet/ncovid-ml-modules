{
 "cells": [
  {
   "cell_type": "markdown",
   "metadata": {},
   "source": [
    "# On-line predicting"
   ]
  },
  {
   "cell_type": "markdown",
   "metadata": {},
   "source": [
    "This script shows how to do an on-line predict using our modules."
   ]
  },
  {
   "cell_type": "markdown",
   "metadata": {},
   "source": [
    "## Run routes.py"
   ]
  },
  {
   "cell_type": "markdown",
   "metadata": {},
   "source": [
    "The routes.py file creates a flask local server in a choosed port to alow a browser (or antoher app) request. The routes.py file is located in the /src path.\n",
    "\n",
    "To run the file, you will need a python (or python3) compile and run the following commands in you terminal.\n",
    "\n",
    "~~~\n",
    "$ cd src\n",
    "$ python routes.py\n",
    "~~~\n",
    "\n",
    "Or you can run the cell below:"
   ]
  },
  {
   "cell_type": "code",
   "execution_count": 3,
   "metadata": {},
   "outputs": [
    {
     "name": "stdout",
     "output_type": "stream",
     "text": [
      " * Serving Flask app \"routes\" (lazy loading)\n",
      " * Environment: production\n",
      "\u001b[31m   WARNING: This is a development server. Do not use it in a production deployment.\u001b[0m\n",
      "\u001b[2m   Use a production WSGI server instead.\u001b[0m\n",
      " * Debug mode: on\n",
      "^C\n"
     ]
    }
   ],
   "source": [
    "! python \"../src/routes.py\""
   ]
  },
  {
   "cell_type": "markdown",
   "metadata": {},
   "source": [
    "This cell above still run for the time you want, to stop the routes.py execution just stop the cell run. \n",
    "\n",
    "While it is run, you are able to do requests in the following format.\n",
    "\n",
    "http://127.0.0.1:5000/lstm/repo/p971074907/path/brl:rn/feature/date:deaths:newCases:/begin/2021-07-01/end/2021-07-30/\n",
    "\n",
    "Where a variable is followed by the desired value, then:\n",
    "\n",
    "~~~python\n",
    "# the remote repository data.\n",
    "repo = \"p971074907\"\n",
    "# coutry and state acronym splited by a \":\"\n",
    "path = \"brl:rn\"\n",
    "# columns (or features) to be extracted from the database, each one splited by a \":\"\n",
    "feature = \"date:newDeaths:newCases:\"\n",
    "# start date for the data request.\n",
    "begin = \"2021-07-01\"\n",
    "# finish date for the data request.\n",
    "end = \"2021-07-30\"\n",
    "~~~"
   ]
  }
 ],
 "metadata": {
  "interpreter": {
   "hash": "b48a8372de07dcfb7270582fe52a873b16bfa1fa9f9ee7b27a1873baaed48200"
  },
  "kernelspec": {
   "display_name": "Python 3.8.11 ('ncovid-backend')",
   "language": "python",
   "name": "python3"
  },
  "language_info": {
   "codemirror_mode": {
    "name": "ipython",
    "version": 3
   },
   "file_extension": ".py",
   "mimetype": "text/x-python",
   "name": "python",
   "nbconvert_exporter": "python",
   "pygments_lexer": "ipython3",
   "version": "3.8.5"
  },
  "orig_nbformat": 4
 },
 "nbformat": 4,
 "nbformat_minor": 2
}
