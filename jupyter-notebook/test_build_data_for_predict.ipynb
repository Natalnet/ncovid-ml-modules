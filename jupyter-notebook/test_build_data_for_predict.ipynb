{
 "cells": [
  {
   "cell_type": "markdown",
   "source": [
    "# Testing data prepared to predict"
   ],
   "metadata": {}
  },
  {
   "cell_type": "markdown",
   "source": [
    "Strategy: \n",
    "- collect an arbitrary data period that contains (begin, end).\n",
    "- the last value is end. a new_begin is calculated in data_manner.__add_period\n",
    "- prepare data with build_test(). this automatically removes the last input_window_size from the data to build x, which is the array we will input to predict\n",
    "- predicts\n",
    "- get an array of predictions y_hat from new_begin+7 to end\n",
    "- get the last (end-begin) values from y_hat. this is the forecast from begin to end"
   ],
   "metadata": {}
  },
  {
   "cell_type": "code",
   "execution_count": 1,
   "source": [
    "configure_json = open('../doc/configure.json', 'r')\n",
    "\n",
    "import json\n",
    "#print(json.dumps(json.load(configure_json), indent=4))"
   ],
   "outputs": [],
   "metadata": {}
  },
  {
   "cell_type": "code",
   "execution_count": 2,
   "source": [
    "import sys\n",
    "sys.path.append(\"../src\")\n",
    "\n",
    "import configs_manner\n",
    "\n",
    "# print(\"Model infos: \\n\", configs_manner.model_infos)\n",
    "# print(\"\\n\")\n",
    "# print(\"Models path: \\n\", configs_manner.model_path)\n",
    "# print(\"\\n\")\n",
    "# print(\"Data path: \\n\", configs_manner.data_path)"
   ],
   "outputs": [],
   "metadata": {}
  },
  {
   "cell_type": "code",
   "execution_count": 200,
   "source": [
    "# import the data_manner.py file. (taking into account that you are in src/ path)\n",
    "import data_manner\n",
    "import predictor_manner\n",
    "from importlib import reload\n",
    "reload(data_manner)\n",
    "reload(predictor_manner)\n",
    "\n",
    "import numpy as np\n",
    "import datetime\n",
    "\n",
    "np.set_printoptions(precision=4, suppress=True)\n",
    "\n",
    "# creating the DataConstructor instance\n",
    "data_constructor_train = data_manner.DataConstructor()\n",
    "data_constructor = data_manner.DataConstructor(True)\n",
    "\n",
    "model_id = \"2f36b1b8-c0d1-11ec-9f78-132ad413b391\"\n",
    "# specif code to the remote repository data.\n",
    "repo = \"p971074907\"\n",
    "# coutry and state acronym splited by a \":\"\n",
    "path = \"brl:ce\"\n",
    "# columns (or features) to be extracted from the database, each one splited by a \":\"\n",
    "feature = \"date:newDeaths:\"\n",
    "# start date for the data request.\n",
    "begin = \"2022-04-10\"\n",
    "# finish date for the data request.\n",
    "end = \"2022-04-30\"\n",
    "\n",
    "DATE_FORMAT = \"%Y-%m-%d\"\n",
    "\n",
    "# collect data from the remote repository.\n",
    "collected_data_train = data_constructor_train.collect_dataframe(path, repo, feature, begin, end)\n",
    "collected_data = data_constructor.collect_dataframe(path, repo, feature, begin, end)\n",
    "\n",
    "print(\"DATA FOR TRAINING\", \"period:\", begin, \"-\", end)\n",
    "print(collected_data_train)\n",
    "print(\"\\n\")\n",
    "print(\"DATA FOR PREDICTING\", \"period after add_period:\", data_constructor.new_first_day.strftime(DATE_FORMAT), \"-\", data_constructor.new_last_day.strftime(DATE_FORMAT))\n",
    "print(\"DATA FOR PREDICTING\", \"period after removing ma buffer:\", (data_constructor.new_first_day+datetime.timedelta(days=7)).strftime(DATE_FORMAT), \"-\", data_constructor.new_last_day.strftime(DATE_FORMAT))\n",
    "print(collected_data)\n",
    "\n",
    "predictor = predictor_manner.PredictorConstructor(\"2f36b1b8-c0d1-11ec-9f78-132ad413b391\", path, repo, feature, begin, end)\n",
    "y_hat = predictor.predict()\n",
    "print(\"\\n\")\n",
    "print(\"DATA X prepared by predictor:\")\n",
    "print(predictor.data_X.flatten())\n",
    "print(predictor.data_X.flatten().shape)\n",
    "print(\"\\n\")\n",
    "print(\"PREDICTION using data_X:\")\n",
    "print(y_hat)\n",
    "print(y_hat.flatten().shape)"
   ],
   "outputs": [
    {
     "output_type": "stream",
     "name": "stdout",
     "text": [
      "DATA FOR TRAINING period: 2022-04-10 - 2022-04-30\n",
      "[array([3.    , 3.    , 3.    , 3.    , 3.    , 3.    , 3.    , 4.4286,\n",
      "       4.8571, 5.    , 4.1429, 4.2857, 4.1429, 5.4286, 4.    , 3.2857,\n",
      "       3.4286, 3.4286, 4.1429, 4.7143, 4.4286])]\n",
      "\n",
      "\n",
      "DATA FOR PREDICTING period after add_period: 2022-03-26 - 2022-04-30\n",
      "DATA FOR PREDICTING period after removing ma buffer: 2022-04-02 - 2022-04-30\n",
      "[array([ 8.1429,  9.1429,  9.8571,  8.4286,  9.5714, 10.7143,  7.1429,\n",
      "        8.7143,  6.4286,  6.    ,  5.8571,  4.7143,  3.8571,  4.5714,\n",
      "        3.    ,  4.4286,  4.8571,  5.    ,  4.1429,  4.2857,  4.1429,\n",
      "        5.4286,  4.    ,  3.2857,  3.4286,  3.4286,  4.1429,  4.7143,\n",
      "        4.4286])]\n",
      "\n",
      "\n",
      "DATA X prepared by predictor:\n",
      "[ 9.1429  9.8571  8.4286  9.5714 10.7143  7.1429  8.7143  6.4286  6.\n",
      "  5.8571  4.7143  3.8571  4.5714  3.      4.4286  4.8571  5.      4.1429\n",
      "  4.2857  4.1429  5.4286]\n",
      "(21,)\n",
      "\n",
      "\n",
      "PREDICTION using data_X:\n",
      "[8.3098 8.4021 7.6789 7.49   7.5004 7.441  7.6518 3.2084 2.7639 2.2936\n",
      " 2.3412 2.9401 3.6619 4.4355 5.2859 5.5661 5.5512 5.6643 5.8555 5.9872\n",
      " 6.066 ]\n",
      "(21,)\n"
     ]
    }
   ],
   "metadata": {}
  },
  {
   "cell_type": "code",
   "execution_count": 199,
   "source": [
    "y_hat_weboutput = predictor.predictions_to_weboutput(y_hat)\n",
    "y_hat_weboutput"
   ],
   "outputs": [
    {
     "output_type": "execute_result",
     "data": {
      "text/plain": [
       "[{'date': '2022-04-10', 'prediction': '8.309764'},\n",
       " {'date': '2022-04-11', 'prediction': '8.402149'},\n",
       " {'date': '2022-04-12', 'prediction': '7.6789246'},\n",
       " {'date': '2022-04-13', 'prediction': '7.4900208'},\n",
       " {'date': '2022-04-14', 'prediction': '7.500409'},\n",
       " {'date': '2022-04-15', 'prediction': '7.440977'},\n",
       " {'date': '2022-04-16', 'prediction': '7.651844'},\n",
       " {'date': '2022-04-17', 'prediction': '3.2083983'},\n",
       " {'date': '2022-04-18', 'prediction': '2.7639148'},\n",
       " {'date': '2022-04-19', 'prediction': '2.2935824'},\n",
       " {'date': '2022-04-20', 'prediction': '2.3411655'},\n",
       " {'date': '2022-04-21', 'prediction': '2.940135'},\n",
       " {'date': '2022-04-22', 'prediction': '3.6618717'},\n",
       " {'date': '2022-04-23', 'prediction': '4.4354568'},\n",
       " {'date': '2022-04-24', 'prediction': '5.2859464'},\n",
       " {'date': '2022-04-25', 'prediction': '5.5660853'},\n",
       " {'date': '2022-04-26', 'prediction': '5.5511637'},\n",
       " {'date': '2022-04-27', 'prediction': '5.6642776'},\n",
       " {'date': '2022-04-28', 'prediction': '5.8555365'},\n",
       " {'date': '2022-04-29', 'prediction': '5.987196'},\n",
       " {'date': '2022-04-30', 'prediction': '6.066011'}]"
      ]
     },
     "metadata": {},
     "execution_count": 199
    }
   ],
   "metadata": {}
  },
  {
   "cell_type": "code",
   "execution_count": 62,
   "source": [
    "import numpy as np\n",
    "import matplotlib.pyplot as plt\n",
    "\n",
    "def uniqueish_color():\n",
    "    \"\"\"There're better ways to generate unique colors, but this isn't awful.\"\"\"\n",
    "    return plt.cm.gist_ncar(np.random.random())\n",
    "\n",
    "def plot_weeks(x_predict):\n",
    "    size = x_predict.x.flatten().shape[0]\n",
    "    x_axis = list(range(size))\n",
    "\n",
    "    fig, ax = plt.subplots()\n",
    "\n",
    "    xy = np.vstack((x_axis, x_predict.x.flatten()))\n",
    "\n",
    "    for i in range(xy.shape[1]//7):\n",
    "        if i == 0:\n",
    "            begin = 0\n",
    "            end = (i+1)*7\n",
    "        else:\n",
    "            begin = (i*7)-1\n",
    "            end = (i+1)*7\n",
    "        ax.plot(xy[0][begin:end], xy[1][begin:end], color=uniqueish_color())\n",
    "    plt.show()"
   ],
   "outputs": [],
   "metadata": {}
  }
 ],
 "metadata": {
  "interpreter": {
   "hash": "e0aa926c7c9173752559c45e7da58d685a6b94148f8f16423c34f039b4987f0a"
  },
  "kernelspec": {
   "name": "python3",
   "display_name": "Python 3.7.11 64-bit ('my_env': conda)"
  },
  "language_info": {
   "codemirror_mode": {
    "name": "ipython",
    "version": 3
   },
   "file_extension": ".py",
   "mimetype": "text/x-python",
   "name": "python",
   "nbconvert_exporter": "python",
   "pygments_lexer": "ipython3",
   "version": "3.7.11"
  },
  "orig_nbformat": 4
 },
 "nbformat": 4,
 "nbformat_minor": 2
}