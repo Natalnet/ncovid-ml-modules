{
 "cells": [
  {
   "cell_type": "markdown",
   "source": [
    "# Testing data prepared to predict"
   ],
   "metadata": {}
  },
  {
   "cell_type": "markdown",
   "source": [
    "Strategy: \n",
    "- collect an arbitrary data period that contains (begin, end).\n",
    "- the last value is end. a new_begin is calculated in data_manner.__add_period\n",
    "- prepare data with build_test(). this automatically removes the last input_window_size from the data to build x, which is the array we will input to predict\n",
    "- predicts\n",
    "- get an array of predictions y_hat from new_begin+7 to end\n",
    "- get the last (end-begin) values from y_hat. this is the forecast from begin to end"
   ],
   "metadata": {}
  },
  {
   "cell_type": "code",
   "execution_count": 1,
   "source": [
    "configure_json = open('../doc/configure.json', 'r')\n",
    "\n",
    "import json\n",
    "#print(json.dumps(json.load(configure_json), indent=4))"
   ],
   "outputs": [],
   "metadata": {}
  },
  {
   "cell_type": "code",
   "execution_count": 2,
   "source": [
    "import sys\n",
    "sys.path.append(\"../src\")\n",
    "\n",
    "import configs_manner\n",
    "\n",
    "# print(\"Model infos: \\n\", configs_manner.model_infos)\n",
    "# print(\"\\n\")\n",
    "# print(\"Models path: \\n\", configs_manner.model_path)\n",
    "# print(\"\\n\")\n",
    "# print(\"Data path: \\n\", configs_manner.data_path)"
   ],
   "outputs": [],
   "metadata": {}
  },
  {
   "cell_type": "code",
   "execution_count": 3,
   "source": [
    "# import the data_manner.py file. (taking into account that you are in src/ path)\n",
    "import data_manner\n",
    "import predictor_manner\n",
    "from importlib import reload\n",
    "reload(data_manner)\n",
    "reload(predictor_manner)\n",
    "\n",
    "import numpy as np\n",
    "import datetime\n",
    "\n",
    "np.set_printoptions(precision=4, suppress=True)\n",
    "\n",
    "# creating the DataConstructor instance\n",
    "data_constructor_train = data_manner.DataConstructor()\n",
    "data_constructor = data_manner.DataConstructor(True)\n",
    "\n",
    "model_id = \"2f36b1b8-c0d1-11ec-9f78-132ad413b391\"\n",
    "# specif code to the remote repository data.\n",
    "repo = \"p971074907\"\n",
    "# country and state acronym splitted by a \":\"\n",
    "path = \"brl:am\"\n",
    "# columns (or features) to be extracted from the database, each one splitted by a \":\"\n",
    "feature = \"date:newDeaths:\"\n",
    "# start date for the data request.\n",
    "begin = \"2022-04-10\"\n",
    "# finish date for the data request.\n",
    "end = \"2022-06-05\"\n",
    "\n",
    "DATE_FORMAT = \"%Y-%m-%d\"\n",
    "\n",
    "# # collect data from the remote repository.\n",
    "# collected_data_train = data_constructor_train.collect_dataframe(path, repo, feature, begin, end)\n",
    "# collected_data = data_constructor.collect_dataframe(path, repo, feature, begin, end)\n",
    "\n",
    "# print(\"DATA FOR TRAINING\", \"period:\", begin, \"-\", end)\n",
    "# # print(collected_data_train)\n",
    "# # print(\"\\n\")\n",
    "# print(\"RAW DATA\", \"period after add_period:\", data_constructor.new_first_day.strftime(DATE_FORMAT), \"-\", end)\n",
    "# # print(\"DATA FOR PREDICTING\", \"period after removing ma buffer:\", (data_constructor.new_first_day+datetime.timedelta(days=7)).strftime(DATE_FORMAT), \"-\", data_constructor.new_last_day.strftime(DATE_FORMAT))\n",
    "# print(data_constructor.processed_data_raw)\n",
    "# print(data_constructor.processed_data_raw.shape[0], \"days\")\n",
    "# print(\"NEW DATA\", \"period after extrapolate check:\", data_constructor.new_first_day.strftime(DATE_FORMAT), \"-\", data_constructor.new_last_day.strftime(DATE_FORMAT))\n",
    "# # print(\"NEW DATA\", \"period after check for extrapolate:\", data_constructor.new_first_day.strftime(DATE_FORMAT), \"-\", data_constructor.new_last_day.strftime(DATE_FORMAT))\n",
    "# # print(\"Processed data\", data_constructor.processed_data_new.shape[0])\n",
    "# print(data_constructor.processed_data_new)\n",
    "# print(data_constructor.processed_data_new.shape[0], \"days\")\n",
    "\n",
    "predictor = predictor_manner.PredictorConstructor(\"2f36b1b8-c0d1-11ec-9f78-132ad413b391\", path, repo, feature, begin, end)\n",
    "y_hat = predictor.predict()\n",
    "\n",
    "# # print(\"\\n\")\n",
    "# print(\"DATA X prepared by predictor:\", data_constructor.new_first_day.strftime(DATE_FORMAT), data_constructor.new_last_day.strftime(DATE_FORMAT))\n",
    "# print(predictor.data_X.flatten())\n",
    "# print(predictor.data_X.flatten().shape)\n",
    "# # print(\"\\n\")\n",
    "# print(\"RAW PREDICTION using data_X:\", data_constructor.new_first_day.strftime(DATE_FORMAT), data_constructor.new_last_day.strftime(DATE_FORMAT))\n",
    "# print(predictor.raw_y_hat)\n",
    "# print(predictor.raw_y_hat.flatten().shape)\n",
    "# print(\"OFFSET PREDICTION using data_X:\", (data_constructor.new_last_day - datetime.timedelta(days=y_hat.shape[0])).strftime(DATE_FORMAT), data_constructor.new_last_day.strftime(DATE_FORMAT))\n",
    "# print(y_hat)\n",
    "# print(y_hat.flatten().shape)"
   ],
   "outputs": [],
   "metadata": {}
  },
  {
   "cell_type": "code",
   "execution_count": 4,
   "source": [
    "y_hat_weboutput = predictor.predictions_to_weboutput(y_hat)\n",
    "y_hat_weboutput"
   ],
   "outputs": [
    {
     "output_type": "execute_result",
     "data": {
      "text/plain": [
       "[{'date': '2022-04-10', 'prediction': '6.649837'},\n",
       " {'date': '2022-04-11', 'prediction': '6.5123024'},\n",
       " {'date': '2022-04-12', 'prediction': '3.4979966'},\n",
       " {'date': '2022-04-13', 'prediction': '3.9140964'},\n",
       " {'date': '2022-04-14', 'prediction': '4.958813'},\n",
       " {'date': '2022-04-15', 'prediction': '6.0589323'},\n",
       " {'date': '2022-04-16', 'prediction': '6.746418'},\n",
       " {'date': '2022-04-17', 'prediction': '7.0510798'},\n",
       " {'date': '2022-04-18', 'prediction': '7.048666'},\n",
       " {'date': '2022-04-19', 'prediction': '3.2842014'},\n",
       " {'date': '2022-04-20', 'prediction': '3.8004494'},\n",
       " {'date': '2022-04-21', 'prediction': '4.8184533'},\n",
       " {'date': '2022-04-22', 'prediction': '5.9207397'},\n",
       " {'date': '2022-04-23', 'prediction': '6.6829853'},\n",
       " {'date': '2022-04-24', 'prediction': '7.0981674'},\n",
       " {'date': '2022-04-25', 'prediction': '7.22366'},\n",
       " {'date': '2022-04-26', 'prediction': '3.640121'},\n",
       " {'date': '2022-04-27', 'prediction': '4.143515'},\n",
       " {'date': '2022-04-28', 'prediction': '5.167095'},\n",
       " {'date': '2022-04-29', 'prediction': '6.1581006'},\n",
       " {'date': '2022-04-30', 'prediction': '6.491473'},\n",
       " {'date': '2022-05-01', 'prediction': '6.3761473'},\n",
       " {'date': '2022-05-02', 'prediction': '5.9976587'},\n",
       " {'date': '2022-05-03', 'prediction': '3.0282254'},\n",
       " {'date': '2022-05-04', 'prediction': '3.814426'},\n",
       " {'date': '2022-05-05', 'prediction': '4.753983'},\n",
       " {'date': '2022-05-06', 'prediction': '5.8354883'},\n",
       " {'date': '2022-05-07', 'prediction': '6.6845956'},\n",
       " {'date': '2022-05-08', 'prediction': '7.2407823'},\n",
       " {'date': '2022-05-09', 'prediction': '7.547856'}]"
      ]
     },
     "metadata": {},
     "execution_count": 4
    }
   ],
   "metadata": {}
  },
  {
   "cell_type": "code",
   "execution_count": 5,
   "source": [
    "y_hat_weboutput = predictor.predictions_to_weboutput(y_hat)\n",
    "y_hat_weboutput"
   ],
   "outputs": [
    {
     "output_type": "execute_result",
     "data": {
      "text/plain": [
       "[{'date': '2022-04-10', 'prediction': '6.649837'},\n",
       " {'date': '2022-04-11', 'prediction': '6.5123024'},\n",
       " {'date': '2022-04-12', 'prediction': '3.4979966'},\n",
       " {'date': '2022-04-13', 'prediction': '3.9140964'},\n",
       " {'date': '2022-04-14', 'prediction': '4.958813'},\n",
       " {'date': '2022-04-15', 'prediction': '6.0589323'},\n",
       " {'date': '2022-04-16', 'prediction': '6.746418'},\n",
       " {'date': '2022-04-17', 'prediction': '7.0510798'},\n",
       " {'date': '2022-04-18', 'prediction': '7.048666'},\n",
       " {'date': '2022-04-19', 'prediction': '3.2842014'},\n",
       " {'date': '2022-04-20', 'prediction': '3.8004494'},\n",
       " {'date': '2022-04-21', 'prediction': '4.8184533'},\n",
       " {'date': '2022-04-22', 'prediction': '5.9207397'},\n",
       " {'date': '2022-04-23', 'prediction': '6.6829853'},\n",
       " {'date': '2022-04-24', 'prediction': '7.0981674'},\n",
       " {'date': '2022-04-25', 'prediction': '7.22366'},\n",
       " {'date': '2022-04-26', 'prediction': '3.640121'},\n",
       " {'date': '2022-04-27', 'prediction': '4.143515'},\n",
       " {'date': '2022-04-28', 'prediction': '5.167095'},\n",
       " {'date': '2022-04-29', 'prediction': '6.1581006'},\n",
       " {'date': '2022-04-30', 'prediction': '6.491473'},\n",
       " {'date': '2022-05-01', 'prediction': '6.3761473'},\n",
       " {'date': '2022-05-02', 'prediction': '5.9976587'},\n",
       " {'date': '2022-05-03', 'prediction': '3.0282254'},\n",
       " {'date': '2022-05-04', 'prediction': '3.814426'},\n",
       " {'date': '2022-05-05', 'prediction': '4.753983'},\n",
       " {'date': '2022-05-06', 'prediction': '5.8354883'},\n",
       " {'date': '2022-05-07', 'prediction': '6.6845956'},\n",
       " {'date': '2022-05-08', 'prediction': '7.2407823'},\n",
       " {'date': '2022-05-09', 'prediction': '7.547856'}]"
      ]
     },
     "metadata": {},
     "execution_count": 5
    }
   ],
   "metadata": {}
  },
  {
   "cell_type": "code",
   "execution_count": 126,
   "source": [
    "y_hat_weboutput = predictor.predictions_to_weboutput(y_hat)\n",
    "y_hat_weboutput"
   ],
   "outputs": [
    {
     "output_type": "execute_result",
     "data": {
      "text/plain": [
       "[{'date': '2022-04-15', 'prediction': '6.7776017'},\n",
       " {'date': '2022-04-16', 'prediction': '7.022166'},\n",
       " {'date': '2022-04-17', 'prediction': '6.9675164'},\n",
       " {'date': '2022-04-18', 'prediction': '3.2842014'},\n",
       " {'date': '2022-04-19', 'prediction': '3.8004494'},\n",
       " {'date': '2022-04-20', 'prediction': '4.8184533'},\n",
       " {'date': '2022-04-21', 'prediction': '5.9207397'},\n",
       " {'date': '2022-04-22', 'prediction': '6.6829853'},\n",
       " {'date': '2022-04-23', 'prediction': '7.0981674'},\n",
       " {'date': '2022-04-24', 'prediction': '7.22366'},\n",
       " {'date': '2022-04-25', 'prediction': '3.640121'},\n",
       " {'date': '2022-04-26', 'prediction': '4.143515'},\n",
       " {'date': '2022-04-27', 'prediction': '5.167095'},\n",
       " {'date': '2022-04-28', 'prediction': '6.1581006'},\n",
       " {'date': '2022-04-29', 'prediction': '6.491473'},\n",
       " {'date': '2022-04-30', 'prediction': '6.3761473'},\n",
       " {'date': '2022-05-01', 'prediction': '5.9976587'},\n",
       " {'date': '2022-05-02', 'prediction': '3.0282254'},\n",
       " {'date': '2022-05-03', 'prediction': '3.814426'},\n",
       " {'date': '2022-05-04', 'prediction': '4.753983'},\n",
       " {'date': '2022-05-05', 'prediction': '5.8354883'},\n",
       " {'date': '2022-05-06', 'prediction': '6.6845956'},\n",
       " {'date': '2022-05-07', 'prediction': '7.2407823'},\n",
       " {'date': '2022-05-08', 'prediction': '7.547856'}]"
      ]
     },
     "metadata": {},
     "execution_count": 126
    }
   ],
   "metadata": {}
  },
  {
   "cell_type": "code",
   "execution_count": 62,
   "source": [
    "import numpy as np\n",
    "import matplotlib.pyplot as plt\n",
    "\n",
    "def uniqueish_color():\n",
    "    \"\"\"There're better ways to generate unique colors, but this isn't awful.\"\"\"\n",
    "    return plt.cm.gist_ncar(np.random.random())\n",
    "\n",
    "def plot_weeks(x_predict):\n",
    "    size = x_predict.x.flatten().shape[0]\n",
    "    x_axis = list(range(size))\n",
    "\n",
    "    fig, ax = plt.subplots()\n",
    "\n",
    "    xy = np.vstack((x_axis, x_predict.x.flatten()))\n",
    "\n",
    "    for i in range(xy.shape[1]//7):\n",
    "        if i == 0:\n",
    "            begin = 0\n",
    "            end = (i+1)*7\n",
    "        else:\n",
    "            begin = (i*7)-1\n",
    "            end = (i+1)*7\n",
    "        ax.plot(xy[0][begin:end], xy[1][begin:end], color=uniqueish_color())\n",
    "    plt.show()"
   ],
   "outputs": [],
   "metadata": {}
  }
 ],
 "metadata": {
  "interpreter": {
   "hash": "e0aa926c7c9173752559c45e7da58d685a6b94148f8f16423c34f039b4987f0a"
  },
  "kernelspec": {
   "name": "python3",
   "display_name": "Python 3.7.11 64-bit ('my_env': conda)"
  },
  "language_info": {
   "codemirror_mode": {
    "name": "ipython",
    "version": 3
   },
   "file_extension": ".py",
   "mimetype": "text/x-python",
   "name": "python",
   "nbconvert_exporter": "python",
   "pygments_lexer": "ipython3",
   "version": "3.7.11"
  },
  "orig_nbformat": 4
 },
 "nbformat": 4,
 "nbformat_minor": 2
}